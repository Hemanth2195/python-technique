{
 "cells": [
  {
   "cell_type": "markdown",
   "metadata": {},
   "source": [
    "it is like enhanced recurrssion problem. in a recurssion problem when we are needed to do the same call again and again it is good to store the once called function in some library or a table."
   ]
  },
  {
   "cell_type": "markdown",
   "metadata": {},
   "source": [
    "example: fibnochi sequence"
   ]
  },
  {
   "cell_type": "markdown",
   "metadata": {},
   "source": [
    "#### when our recurrsive function at each implementation calls for more than one recursive call, then there will be chance of calling some functions multiple times. in that case we need to use dynamic programing(i.e., to store the results of smaller calls in a memeory)"
   ]
  },
  {
   "cell_type": "code",
   "execution_count": 1,
   "metadata": {},
   "outputs": [
    {
     "data": {
      "text/plain": [
       "102334155"
      ]
     },
     "execution_count": 1,
     "metadata": {},
     "output_type": "execute_result"
    }
   ],
   "source": [
    "def fib1(a):\n",
    "    if a<=1:\n",
    "        return a \n",
    "    return fib1(a-1)+fib1(a-2)\n",
    "l={}\n",
    "def fib2(a):\n",
    "    if a<=1:\n",
    "        return a \n",
    "    if a-1 in l: \n",
    "        f1=l[a-1]\n",
    "    else:\n",
    "        f1=fib2(a-1)\n",
    "        l[a-1]=f1\n",
    "    if a-2 in l:\n",
    "        f2=l[a-2]\n",
    "    else:\n",
    "        f2=fib2(a-2)\n",
    "        l[a-2]=f2 \n",
    "    return f1+f2 \n",
    "#fib1 is very inafficent\n",
    "#fib2 is very much afficient\n",
    "fib2(40)"
   ]
  },
  {
   "cell_type": "markdown",
   "metadata": {},
   "source": [
    "watch: https://youtu.be/nqowUJzG-iM?list=PL_z_8CaSLPWekqhdCPmFohncHwz8TY2Go"
   ]
  },
  {
   "cell_type": "markdown",
   "metadata": {},
   "source": [
    "### remember : if in a question if the solving goes like 1.choices and 2.optimal(asking for maximum, minimum like that)"
   ]
  },
  {
   "cell_type": "markdown",
   "metadata": {},
   "source": [
    "### code for 0/1 knapsack"
   ]
  },
  {
   "cell_type": "code",
   "execution_count": 3,
   "metadata": {},
   "outputs": [
    {
     "data": {
      "text/plain": [
       "7"
      ]
     },
     "execution_count": 3,
     "metadata": {},
     "output_type": "execute_result"
    }
   ],
   "source": [
    "a=[1,3,4,5]\n",
    "b=[1,4,5,7]\n",
    "c=7\n",
    "n=4\n",
    "def bag(a,b,c,n): \n",
    "    if n==0: \n",
    "        return 0 \n",
    "    if a[n-1]<=c: \n",
    "         return max(a[n-1]+bag(a,b,c-a[n-1],n-1),bag(a,b,c,n-1))\n",
    "    else:\n",
    "        return bag(a,b,c,n-1) \n",
    "bag(a,b,c,n)"
   ]
  },
  {
   "cell_type": "markdown",
   "metadata": {},
   "source": [
    "### the below code is memorization approach"
   ]
  },
  {
   "cell_type": "code",
   "execution_count": 9,
   "metadata": {},
   "outputs": [
    {
     "data": {
      "text/plain": [
       "7"
      ]
     },
     "execution_count": 9,
     "metadata": {},
     "output_type": "execute_result"
    }
   ],
   "source": [
    "g={}\n",
    "for i in range(n+1):\n",
    "    for j in range(c+1):\n",
    "        g[i,j]=-1\n",
    "def bag(a,b,c,n): \n",
    "    if n==0: \n",
    "        return 0 \n",
    "    if a[n-1]<=c: \n",
    "        if g[n,c]!=-1:\n",
    "            return g[n,c]\n",
    "        else:\n",
    "            t=max(a[n-1]+bag(a,b,c-a[n-1],n-1),bag(a,b,c,n-1))\n",
    "            g[n,c]=t \n",
    "        return t \n",
    "    else:\n",
    "        if g[n-1,c]!=-1:\n",
    "            t=g[n-1,c]\n",
    "        else:\n",
    "            t=bag(a,b,c,n-1) \n",
    "        return t\n",
    "bag(a,b,c,n)\n",
    "#print(g)"
   ]
  },
  {
   "cell_type": "markdown",
   "metadata": {},
   "source": [
    "### the below code is top-bottom approach"
   ]
  },
  {
   "cell_type": "markdown",
   "metadata": {},
   "source": [
    "here we don't call for any reccurssive function, we aready keep all the values for the variables and use them to find the solution. the function becomes iterative type. "
   ]
  },
  {
   "cell_type": "code",
   "execution_count": 16,
   "metadata": {},
   "outputs": [
    {
     "name": "stdout",
     "output_type": "stream",
     "text": [
      "[[-1, -1, -1, -1, -1, -1, -1, -1], [-1, -1, -1, -1, -1, -1, -1, -1], [-1, -1, -1, -1, -1, -1, -1, -1], [-1, -1, -1, -1, -1, -1, -1, -1], [-1, -1, -1, -1, -1, -1, -1, -1]]\n",
      "0 0\n",
      "0 1\n",
      "0 2\n",
      "0 3\n",
      "0 4\n",
      "0 5\n",
      "0 6\n",
      "0 7\n",
      "1 0\n",
      "2 0\n",
      "3 0\n",
      "4 0\n"
     ]
    },
    {
     "data": {
      "text/plain": [
       "31"
      ]
     },
     "execution_count": 16,
     "metadata": {},
     "output_type": "execute_result"
    }
   ],
   "source": [
    "def bag(a,b,c,n):\n",
    "    t=[[-1 ]*(c+1)]*(n+1) \n",
    "    print(t)\n",
    "    for i in range(n+1): \n",
    "        for j in range(c+1):\n",
    "            if i==0 or j==0:\n",
    "                print(i,j)\n",
    "                t[i][j]=0\n",
    "            else:\n",
    "                t[i][j]=max(a[i-1]+t[i-1][j-a[i-1]],t[i-1][j])\n",
    "    return t[n][c]\n",
    "bag(a,b,c,n) "
   ]
  },
  {
   "cell_type": "code",
   "execution_count": null,
   "metadata": {},
   "outputs": [],
   "source": []
  }
 ],
 "metadata": {
  "kernelspec": {
   "display_name": "Python 3",
   "language": "python",
   "name": "python3"
  },
  "language_info": {
   "codemirror_mode": {
    "name": "ipython",
    "version": 3
   },
   "file_extension": ".py",
   "mimetype": "text/x-python",
   "name": "python",
   "nbconvert_exporter": "python",
   "pygments_lexer": "ipython3",
   "version": "3.7.6"
  },
  "varInspector": {
   "cols": {
    "lenName": 16,
    "lenType": 16,
    "lenVar": 40
   },
   "kernels_config": {
    "python": {
     "delete_cmd_postfix": "",
     "delete_cmd_prefix": "del ",
     "library": "var_list.py",
     "varRefreshCmd": "print(var_dic_list())"
    },
    "r": {
     "delete_cmd_postfix": ") ",
     "delete_cmd_prefix": "rm(",
     "library": "var_list.r",
     "varRefreshCmd": "cat(var_dic_list()) "
    }
   },
   "types_to_exclude": [
    "module",
    "function",
    "builtin_function_or_method",
    "instance",
    "_Feature"
   ],
   "window_display": false
  }
 },
 "nbformat": 4,
 "nbformat_minor": 4
}
