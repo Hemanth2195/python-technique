{
 "cells": [
  {
   "cell_type": "markdown",
   "metadata": {},
   "source": [
    "this question solution is hard to understand because i am not getting how the compare function is working along with the 'key' argument in the 'sorted'."
   ]
  },
  {
   "cell_type": "code",
   "execution_count": 11,
   "metadata": {},
   "outputs": [],
   "source": [
    "from functools import cmp_to_key\n",
    "\n",
    "class Solution:\n",
    "\t# @param A : tuple of integers\n",
    "\t# @return a strings\n",
    "\tdef largestNumber(self, A):\n",
    "\t    ''' When comparing numbers we must pick the one leading\n",
    "\t        to the best concatenated result:\n",
    "\t        787978 > 787879  so 7879 is 'bigger' than 78\n",
    "\t                    but     7879 is 'less' than 788\n",
    "\t    '''\n",
    "\t    \n",
    "\t    # Convert to string once, for proper comparison a+b vs b+a\n",
    "\t    A = map(str, A)\n",
    "\t    key = cmp_to_key(lambda a,b: 1 if a+b >= b+a else -1)\n",
    "\t    res = ''.join(sorted(A, key= key, reverse=True))\n",
    "\t    # Must left trim 0, apparently\n",
    "\t    res = res.lstrip('0')\n",
    "\t    return res if res else '0'"
   ]
  },
  {
   "cell_type": "code",
   "execution_count": 22,
   "metadata": {},
   "outputs": [],
   "source": [
    "class Solution:\n",
    "    # @param A : tuple of integers\n",
    "    # @return a strings\n",
    "    \n",
    "    def largestNumber(self, A):\n",
    "        from functools import cmp_to_key as c #this method is used because it will conver comparator into key type function.\n",
    "        def compare(a,b): ## this is the comparator function.\n",
    "            if (a+b)>=(b+a):\n",
    "                return 1\n",
    "            else:\n",
    "                return -1\n",
    "        A=list(map(str,A))\n",
    "        res=sorted(A,key=c(compare),reverse=True)\n",
    "        res=''.join(res)\n",
    "        return res"
   ]
  },
  {
   "cell_type": "code",
   "execution_count": 23,
   "metadata": {},
   "outputs": [
    {
     "data": {
      "text/plain": [
       "'9534330'"
      ]
     },
     "execution_count": 23,
     "metadata": {},
     "output_type": "execute_result"
    }
   ],
   "source": [
    "A=[3, 30, 34, 5, 9]\n",
    "c1=Solution()\n",
    "c1.largestNumber(A)"
   ]
  },
  {
   "cell_type": "markdown",
   "metadata": {},
   "source": [
    "just remember the code if we encounter a similar problem may be usefull "
   ]
  },
  {
   "cell_type": "code",
   "execution_count": null,
   "metadata": {},
   "outputs": [],
   "source": []
  }
 ],
 "metadata": {
  "kernelspec": {
   "display_name": "Python 3",
   "language": "python",
   "name": "python3"
  },
  "language_info": {
   "codemirror_mode": {
    "name": "ipython",
    "version": 3
   },
   "file_extension": ".py",
   "mimetype": "text/x-python",
   "name": "python",
   "nbconvert_exporter": "python",
   "pygments_lexer": "ipython3",
   "version": "3.7.6"
  },
  "varInspector": {
   "cols": {
    "lenName": 16,
    "lenType": 16,
    "lenVar": 40
   },
   "kernels_config": {
    "python": {
     "delete_cmd_postfix": "",
     "delete_cmd_prefix": "del ",
     "library": "var_list.py",
     "varRefreshCmd": "print(var_dic_list())"
    },
    "r": {
     "delete_cmd_postfix": ") ",
     "delete_cmd_prefix": "rm(",
     "library": "var_list.r",
     "varRefreshCmd": "cat(var_dic_list()) "
    }
   },
   "types_to_exclude": [
    "module",
    "function",
    "builtin_function_or_method",
    "instance",
    "_Feature"
   ],
   "window_display": false
  }
 },
 "nbformat": 4,
 "nbformat_minor": 4
}
