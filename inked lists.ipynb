{
 "cells": [
  {
   "cell_type": "markdown",
   "metadata": {},
   "source": [
    "when we use a normal array the size of memory allocated to it during it's creation is constant. so, if we wanted to add some extra element to it we have to create a entirely new block of memory for the modified array. this problem can be resolved by the use of linked lists."
   ]
  },
  {
   "cell_type": "markdown",
   "metadata": {},
   "source": [
    "watch: https://youtu.be/NobHlGUjV3g?list=PL2_aWCzGMAwI3W_JlcBbtYTwiQSsOTa6P"
   ]
  },
  {
   "cell_type": "markdown",
   "metadata": {},
   "source": [
    "linked lists: when ever we define two elements seperately they will not be stored in a countigeous block of memory. in linked lists each element is called a node which has 1.int data and 2.address of the next element. the last node has address as 0. first element is called head node, by previously knowing the address of the head node, we can access nth element in the list. here the extra space is used just for storing the addresses of next element. But advantage is we don't need to predefine the address."
   ]
  },
  {
   "cell_type": "markdown",
   "metadata": {},
   "source": [
    "arrays vs linked lists: https://youtu.be/lC-yYCOnN8Q?list=PL2_aWCzGMAwI3W_JlcBbtYTwiQSsOTa6P  . about space, time complexity"
   ]
  },
  {
   "cell_type": "markdown",
   "metadata": {},
   "source": [
    "for code in python3: https://youtu.be/RhCGA4jlPmQ?list=PLzjoZGHG3J8vdUH75YPqmO7lbQl_M-xXo"
   ]
  },
  {
   "cell_type": "markdown",
   "metadata": {},
   "source": [
    "### code for singly linked lists. video:https://youtu.be/RhCGA4jlPmQ?list=PLzjoZGHG3J8vdUH75YPqmO7lbQl_M-xXo . good explination, and this: https://youtu.be/6sBsF13n5ig (this is also good but old)"
   ]
  },
  {
   "cell_type": "markdown",
   "metadata": {},
   "source": [
    "watch the video from the middel where the 2nd method of writing code is given"
   ]
  },
  {
   "cell_type": "code",
   "execution_count": 6,
   "metadata": {},
   "outputs": [
    {
     "name": "stdout",
     "output_type": "stream",
     "text": [
      "tarun hemanth karangi \n",
      "\n",
      "vinod ayushman hemanth sanjay "
     ]
    }
   ],
   "source": [
    "class Node:\n",
    "    def __init__(self,data): # when ever we create a new node the data is the parameter we passing, \n",
    "        self.data=data       # next(pointer) is always pointed toward the None \n",
    "        self.next=None       #latter we will change while adding a new element\n",
    "        \n",
    "class LinkedList:\n",
    "    def __init__(self):\n",
    "        self.head=None  # head is the tempororyly kept as None latter we make the first node that we going to add as head\n",
    "    # note: the init function is called only when we create the object of the linked list so for the first time only the \n",
    "    # head is none\n",
    "    def insert(self,node):\n",
    "        if self.head is None:\n",
    "            self.head=node  # latter we have changed the head to node, so head is no longer be None. even when we again call\n",
    "                            # the insert method head is not gona change to None, it remains as the first value.\n",
    "        else: #we going to search for the last element(whose next is None) to append the new node\n",
    "            currentnode=self.head # created a variable current node starting from the head to iteerate over the list\n",
    "            while True:\n",
    "                if currentnode.next is None: # when we find the last element we \n",
    "                    currentnode.next=node    # we will make the next(pointer) of the last element to the new node\n",
    "                    break \n",
    "                else: # otherwise\n",
    "                    currentnode=currentnode.next # we move on to find the last node\n",
    "    def deleteend(self): #deletes last element\n",
    "        lastnode=self.head\n",
    "        while lastnode.next is not None:\n",
    "            previousnode=lastnode\n",
    "            lastnode=lastnode.next\n",
    "        #del lastnode  ## this will not work del lastnode means we deleing the pointer of the lastnode(see the precious steps)\n",
    "        previousnode.next=None #we are making the last but one element's pointer as the None, so as breaking the link with the \n",
    "                            # previously last element (therefore deleting the last element)\n",
    "    def deleteat(self,p):\n",
    "        if p<1 and p>self.listlength()+1:\n",
    "            print('invalid position') \n",
    "            return  \n",
    "        if p==1:\n",
    "            self.head=self.head.next\n",
    "            return\n",
    "        currentnode=self.head\n",
    "        q=2   \n",
    "        while True:\n",
    "            if q==p:  \n",
    "                currentnode.next=currentnode.next.next\n",
    "                break\n",
    "            else:\n",
    "                q=q+1 \n",
    "                currentnode=currentnode.next\n",
    "    def addhead(self,node): #adding a head node\n",
    "        node.next=self.head\n",
    "        self.head=node \n",
    "    def listlength(self):\n",
    "        currentnode=self.head\n",
    "        leangth=0\n",
    "        while True:\n",
    "            if currentnode is not None:\n",
    "                leangth+=1\n",
    "                currentnode=currentnode.next\n",
    "            return leangth\n",
    "    def insertin(self,node,p):  #p-position not the index so starts from 1\n",
    "        if p==1:  \n",
    "            self.addhead(self,node)\n",
    "            return \n",
    "        elif p<1 and p>self.listlength()+1:\n",
    "            print('invalid position') \n",
    "            return  \n",
    "        currentnode=self.head\n",
    "        q=2  \n",
    "        while True: \n",
    "            if p==q: \n",
    "                n1=currentnode.next #temporotyly saving the pointer of current node as n1\n",
    "                currentnode.next=node \n",
    "                node.next=n1 \n",
    "                break \n",
    "            else:\n",
    "                q=q+1 \n",
    "    def printlist(self):\n",
    "        currentnode=self.head #we start from the head\n",
    "        while True:\n",
    "            if currentnode is None: # when the current node becomes None(i.,e when the last node is found the last node                                 #the current node)\n",
    "                break              # will point towards the None that is how it becomes None)\n",
    "            print(currentnode.data,end=' ')\n",
    "            currentnode=currentnode.next\n",
    "            \n",
    "node1=Node('tarun') # created our first node (object) with data as 'tarun' \n",
    "node2=Node('hemanth') \n",
    "node3=Node('karangi')\n",
    "linkedlist=LinkedList()\n",
    "linkedlist.insert(node1)\n",
    "linkedlist.insert(node2)\n",
    "linkedlist.insert(node3)\n",
    "linkedlist.printlist()\n",
    "print('\\n')\n",
    "node4=Node('sanjay')\n",
    "linkedlist.insert(node4)\n",
    "node5=Node('vinod')\n",
    "linkedlist.addhead(node5)\n",
    "node6=Node('ayushman')\n",
    "linkedlist.insertin(node6,2)\n",
    "node7=Node('nobody')\n",
    "linkedlist.insert(node7)\n",
    "linkedlist.deleteend()\n",
    "linkedlist.deleteat(3)\n",
    "linkedlist.deleteat(4)\n",
    "\n",
    "linkedlist.printlist()"
   ]
  },
  {
   "cell_type": "markdown",
   "metadata": {},
   "source": [
    "## merging two sorted lists"
   ]
  },
  {
   "cell_type": "code",
   "execution_count": 47,
   "metadata": {},
   "outputs": [],
   "source": [
    "class Solution:\n",
    "\n",
    "    def lPalin(self, A):\n",
    "        n=0\n",
    "        c=A\n",
    "        while c:\n",
    "            n=n+1\n",
    "            c=c.next\n",
    "        l=[]\n",
    "        c=A\n",
    "        for i in range(n//2):\n",
    "            l.append(c.data)\n",
    "            c=c.next\n",
    "        print(f'this:{c.data}')\n",
    "        if n%2==1:\n",
    "            c=c.next\n",
    "        print(l)\n",
    "        while c:\n",
    "            if c.data==l[-1]:\n",
    "                l.pop()\n",
    "            else:\n",
    "                return 0\n",
    "            c=c.next\n",
    "        return 1"
   ]
  },
  {
   "cell_type": "code",
   "execution_count": 48,
   "metadata": {},
   "outputs": [
    {
     "name": "stdout",
     "output_type": "stream",
     "text": [
      "1 5 1 \n",
      "\n",
      "this:5\n",
      "[1]\n"
     ]
    },
    {
     "data": {
      "text/plain": [
       "1"
      ]
     },
     "execution_count": 48,
     "metadata": {},
     "output_type": "execute_result"
    }
   ],
   "source": [
    "n1=Node(1)\n",
    "n2=Node(5)\n",
    "n3=Node(1)\n",
    "\n",
    "\n",
    "l1=LinkedList()\n",
    "l1.insert(n1)\n",
    "l1.insert(n2)\n",
    "l1.insert(n3)\n",
    "\n",
    "\n",
    "l1.printlist()\n",
    "print('\\n')\n",
    "c1=Solution()\n",
    "c1.lPalin(n1)"
   ]
  },
  {
   "cell_type": "code",
   "execution_count": null,
   "metadata": {},
   "outputs": [],
   "source": []
  },
  {
   "cell_type": "code",
   "execution_count": null,
   "metadata": {},
   "outputs": [],
   "source": []
  },
  {
   "cell_type": "code",
   "execution_count": null,
   "metadata": {},
   "outputs": [],
   "source": []
  },
  {
   "cell_type": "code",
   "execution_count": 9,
   "metadata": {},
   "outputs": [
    {
     "name": "stdout",
     "output_type": "stream",
     "text": [
      "1 5 7 11 15 \n",
      "\n",
      "2 4 12 19 \n",
      "\n",
      "1 2 4 5 7 11 12 15 19 "
     ]
    }
   ],
   "source": [
    "def merge(l1,l2,mergedlist):\n",
    "    i1=l1.head\n",
    "    i2=l2.head\n",
    "    while True:\n",
    "        if i1 is None:\n",
    "            mergedlist.insert(i2)\n",
    "            break \n",
    "        elif i2 is None:\n",
    "            mergedlist.insert(i1)\n",
    "            break \n",
    "        if i1.data<i2.data:\n",
    "            c=i1.next\n",
    "            i1.next=None\n",
    "            mergedlist.insert(i1)\n",
    "            i1=c \n",
    "        else: \n",
    "            c=i2.next\n",
    "            i2.next=None\n",
    "            mergedlist.insert(i2)\n",
    "            i2=c \n",
    "        \n",
    "        \n",
    "    \n",
    "\n",
    "n1=Node(1)\n",
    "n2=Node(5)\n",
    "n3=Node(7)\n",
    "n4=Node(11)\n",
    "n5=Node(15)\n",
    "a1=Node(2)\n",
    "a2=Node(4)\n",
    "a3=Node(12)\n",
    "a4=Node(19)\n",
    "l1=LinkedList()\n",
    "l1.insert(n1)\n",
    "l1.insert(n2)\n",
    "l1.insert(n3)\n",
    "l1.insert(n4)\n",
    "l1.insert(n5)\n",
    "l2=LinkedList()\n",
    "l2.insert(a1)\n",
    "l2.insert(a2)\n",
    "l2.insert(a3)\n",
    "l2.insert(a4)\n",
    "\n",
    "l1.printlist()\n",
    "print('\\n')\n",
    "l2.printlist()\n",
    "print('\\n')\n",
    "\n",
    "mergedlist=LinkedList()\n",
    "\n",
    "merge(l1,l2,mergedlist)\n",
    "mergedlist.printlist()"
   ]
  },
  {
   "cell_type": "code",
   "execution_count": 10,
   "metadata": {},
   "outputs": [
    {
     "name": "stdout",
     "output_type": "stream",
     "text": [
      "1 2 4 5 7 11 12 15 19 "
     ]
    }
   ],
   "source": [
    "l1.printlist()"
   ]
  },
  {
   "cell_type": "code",
   "execution_count": 4,
   "metadata": {},
   "outputs": [
    {
     "name": "stdout",
     "output_type": "stream",
     "text": [
      "1 2 4 5 7 11 12 15 19 initial\n",
      "1 initial\n",
      "1 initial\n",
      "1 initial\n",
      "1 initial\n",
      "1 initial\n",
      "1 initial\n",
      "1 initial\n",
      "1 last 19\n",
      "1 "
     ]
    }
   ],
   "source": [
    "class Solution:\n",
    "    # @param A : head node of linked list\n",
    "    # @return the head node in the linked list\n",
    "    def __init__(self):\n",
    "        self.p=None\n",
    "    def reverseList(self,c):\n",
    "        l1.printlist()\n",
    "        n=c.next\n",
    "        c.next=self.p \n",
    "        if n is None:\n",
    "            print('last',c.data)\n",
    "            return c \n",
    "        else:\n",
    "            print('initial')\n",
    "            self.p=c \n",
    "            c=n \n",
    "            self.reverseList(c)\n",
    "c1=Solution()\n",
    "c1.reverseList(n1)\n",
    "l1.printlist()"
   ]
  },
  {
   "cell_type": "markdown",
   "metadata": {},
   "source": [
    "## reversing a linked list"
   ]
  },
  {
   "cell_type": "code",
   "execution_count": 5,
   "metadata": {},
   "outputs": [],
   "source": [
    "def reverse(A): #A-head of the linekd list\n",
    "    p=None\n",
    "    c=A\n",
    "    while c: \n",
    "        n=c.next\n",
    "        c.next=p  \n",
    "        p=c \n",
    "        c=n \n",
    "    return p "
   ]
  },
  {
   "cell_type": "markdown",
   "metadata": {},
   "source": [
    "this the code. we can recturn the head of the reversed linked list. here for the above code it is not applicable."
   ]
  },
  {
   "cell_type": "markdown",
   "metadata": {},
   "source": [
    "## printing elements in a list using recurssion"
   ]
  },
  {
   "cell_type": "code",
   "execution_count": 4,
   "metadata": {},
   "outputs": [
    {
     "name": "stdout",
     "output_type": "stream",
     "text": [
      "1 2 4 5 7 11 12 15 19 "
     ]
    }
   ],
   "source": [
    "def printing(A):\n",
    "    if A is None:\n",
    "        return \n",
    "    print(A.data,end=' ')\n",
    "    printing(A.next)\n",
    "printing(n1)"
   ]
  },
  {
   "cell_type": "markdown",
   "metadata": {},
   "source": [
    "## print elements of a linked list without reversing the list. using recursion"
   ]
  },
  {
   "cell_type": "code",
   "execution_count": 11,
   "metadata": {},
   "outputs": [
    {
     "name": "stdout",
     "output_type": "stream",
     "text": [
      "19 15 12 11 7 5 4 2 1 "
     ]
    }
   ],
   "source": [
    "def printing(A):\n",
    "    if A is None:\n",
    "        return \n",
    "    #print(A.data,end=' ')\n",
    "    printing(A.next)\n",
    "    print(A.data,end=' ')\n",
    "printing(n1)"
   ]
  },
  {
   "cell_type": "code",
   "execution_count": 15,
   "metadata": {},
   "outputs": [
    {
     "name": "stdout",
     "output_type": "stream",
     "text": [
      "19 15 12 11 7 5 4 2 1 "
     ]
    }
   ],
   "source": [
    "def reverse_print(A):\n",
    "    if A is None:\n",
    "        return  \n",
    "    reverse_print(A.next)\n",
    "    print(A.data,end=' ')\n",
    "reverse_print(n1)"
   ]
  },
  {
   "cell_type": "markdown",
   "metadata": {},
   "source": [
    "## the above recursive functions consumes so much space compared to the iterative method."
   ]
  },
  {
   "cell_type": "code",
   "execution_count": null,
   "metadata": {},
   "outputs": [],
   "source": []
  },
  {
   "cell_type": "code",
   "execution_count": 9,
   "metadata": {},
   "outputs": [
    {
     "ename": "RecursionError",
     "evalue": "maximum recursion depth exceeded",
     "output_type": "error",
     "traceback": [
      "\u001b[1;31m---------------------------------------------------------------------------\u001b[0m",
      "\u001b[1;31mRecursionError\u001b[0m                            Traceback (most recent call last)",
      "\u001b[1;32m<ipython-input-9-a347138b0cd5>\u001b[0m in \u001b[0;36m<module>\u001b[1;34m\u001b[0m\n\u001b[0;32m     10\u001b[0m     \u001b[1;32mreturn\u001b[0m \u001b[0mhead\u001b[0m\u001b[1;33m\u001b[0m\u001b[1;33m\u001b[0m\u001b[0m\n\u001b[0;32m     11\u001b[0m \u001b[0mhead\u001b[0m\u001b[1;33m=\u001b[0m\u001b[0mreverse\u001b[0m\u001b[1;33m(\u001b[0m\u001b[0mn1\u001b[0m\u001b[1;33m)\u001b[0m\u001b[1;33m\u001b[0m\u001b[1;33m\u001b[0m\u001b[0m\n\u001b[1;32m---> 12\u001b[1;33m \u001b[0mprinting\u001b[0m\u001b[1;33m(\u001b[0m\u001b[0mhead\u001b[0m\u001b[1;33m)\u001b[0m\u001b[1;33m\u001b[0m\u001b[1;33m\u001b[0m\u001b[0m\n\u001b[0m",
      "\u001b[1;32m<ipython-input-5-d1d7571e549f>\u001b[0m in \u001b[0;36mprinting\u001b[1;34m(A)\u001b[0m\n\u001b[0;32m      3\u001b[0m         \u001b[1;32mreturn\u001b[0m\u001b[1;33m\u001b[0m\u001b[1;33m\u001b[0m\u001b[0m\n\u001b[0;32m      4\u001b[0m     \u001b[1;31m#print(A.data,end=' ')\u001b[0m\u001b[1;33m\u001b[0m\u001b[1;33m\u001b[0m\u001b[1;33m\u001b[0m\u001b[0m\n\u001b[1;32m----> 5\u001b[1;33m     \u001b[0mprinting\u001b[0m\u001b[1;33m(\u001b[0m\u001b[0mA\u001b[0m\u001b[1;33m.\u001b[0m\u001b[0mnext\u001b[0m\u001b[1;33m)\u001b[0m\u001b[1;33m\u001b[0m\u001b[1;33m\u001b[0m\u001b[0m\n\u001b[0m\u001b[0;32m      6\u001b[0m     \u001b[0mprint\u001b[0m\u001b[1;33m(\u001b[0m\u001b[0mA\u001b[0m\u001b[1;33m.\u001b[0m\u001b[0mdata\u001b[0m\u001b[1;33m,\u001b[0m\u001b[0mend\u001b[0m\u001b[1;33m=\u001b[0m\u001b[1;34m' '\u001b[0m\u001b[1;33m)\u001b[0m\u001b[1;33m\u001b[0m\u001b[1;33m\u001b[0m\u001b[0m\n\u001b[0;32m      7\u001b[0m \u001b[0mprinting\u001b[0m\u001b[1;33m(\u001b[0m\u001b[0mn1\u001b[0m\u001b[1;33m)\u001b[0m\u001b[1;33m\u001b[0m\u001b[1;33m\u001b[0m\u001b[0m\n",
      "... last 1 frames repeated, from the frame below ...\n",
      "\u001b[1;32m<ipython-input-5-d1d7571e549f>\u001b[0m in \u001b[0;36mprinting\u001b[1;34m(A)\u001b[0m\n\u001b[0;32m      3\u001b[0m         \u001b[1;32mreturn\u001b[0m\u001b[1;33m\u001b[0m\u001b[1;33m\u001b[0m\u001b[0m\n\u001b[0;32m      4\u001b[0m     \u001b[1;31m#print(A.data,end=' ')\u001b[0m\u001b[1;33m\u001b[0m\u001b[1;33m\u001b[0m\u001b[1;33m\u001b[0m\u001b[0m\n\u001b[1;32m----> 5\u001b[1;33m     \u001b[0mprinting\u001b[0m\u001b[1;33m(\u001b[0m\u001b[0mA\u001b[0m\u001b[1;33m.\u001b[0m\u001b[0mnext\u001b[0m\u001b[1;33m)\u001b[0m\u001b[1;33m\u001b[0m\u001b[1;33m\u001b[0m\u001b[0m\n\u001b[0m\u001b[0;32m      6\u001b[0m     \u001b[0mprint\u001b[0m\u001b[1;33m(\u001b[0m\u001b[0mA\u001b[0m\u001b[1;33m.\u001b[0m\u001b[0mdata\u001b[0m\u001b[1;33m,\u001b[0m\u001b[0mend\u001b[0m\u001b[1;33m=\u001b[0m\u001b[1;34m' '\u001b[0m\u001b[1;33m)\u001b[0m\u001b[1;33m\u001b[0m\u001b[1;33m\u001b[0m\u001b[0m\n\u001b[0;32m      7\u001b[0m \u001b[0mprinting\u001b[0m\u001b[1;33m(\u001b[0m\u001b[0mn1\u001b[0m\u001b[1;33m)\u001b[0m\u001b[1;33m\u001b[0m\u001b[1;33m\u001b[0m\u001b[0m\n",
      "\u001b[1;31mRecursionError\u001b[0m: maximum recursion depth exceeded"
     ]
    }
   ],
   "source": [
    "def reverser(A):\n",
    "    if A.next is A: \n",
    "        h=A \n",
    "        return \n",
    "    reverser(A.next)\n",
    "    \n",
    "    \n",
    "    "
   ]
  },
  {
   "cell_type": "markdown",
   "metadata": {},
   "source": [
    "## doubly linked lists"
   ]
  },
  {
   "cell_type": "markdown",
   "metadata": {},
   "source": [
    "what is: https://youtu.be/JdQeNxWCguQ?list=PL2_aWCzGMAwI3W_JlcBbtYTwiQSsOTa6P\n",
    "python3: https://youtu.be/8kptHdreaTA?list=PL5tcWHG-UPH3nDinW5u_oRcNv6hwhY7ET"
   ]
  },
  {
   "cell_type": "code",
   "execution_count": 5,
   "metadata": {},
   "outputs": [
    {
     "name": "stdout",
     "output_type": "stream",
     "text": [
      "7 4 3 2 \n",
      "\n",
      "7 4 3 2 3 7 2 \n",
      "\n",
      "7 4 3 2 \n",
      "\n"
     ]
    }
   ],
   "source": [
    "class Node:\n",
    "    def __init__(self,data):\n",
    "        self.data=data\n",
    "        self.prev=None\n",
    "        self.next=None\n",
    "class doubly_linked:\n",
    "    def __init__(self):\n",
    "        self.head=None \n",
    "    def append(self,n):\n",
    "        n=Node(n)\n",
    "        if self.head is None:\n",
    "            self.head=n \n",
    "        else:\n",
    "            c=self.head\n",
    "            while c.next:\n",
    "                c=c.next\n",
    "            c.next=n \n",
    "            n.prev=c \n",
    "    def prepend(self,n):\n",
    "        n=Node(n)\n",
    "        if self.head is None:\n",
    "            self.head=n \n",
    "        else:\n",
    "            h=self.head\n",
    "            self.head=n \n",
    "            n.next=h \n",
    "            h.prev=n \n",
    "    def delete(self,p):\n",
    "        if p==1:\n",
    "            self.headoff()\n",
    "        else:\n",
    "            c=self.head\n",
    "            for i in range(p-1):\n",
    "                c=c.next\n",
    "            if c.next is None:\n",
    "                self.pop()\n",
    "            else:\n",
    "                n1=c.prev\n",
    "                n2=c.next\n",
    "                n1.next=n2\n",
    "                n2.prev=n1\n",
    "    def insert(self,n,p):\n",
    "        if p==1: \n",
    "            self.prepend(n)\n",
    "        else:\n",
    "            n=Node(n)\n",
    "            c=self.head\n",
    "            for i in range(p-1):\n",
    "                c=c.next\n",
    "            n1=c.prev\n",
    "            n1.next=n \n",
    "            n.prev=n1\n",
    "            n.next=c \n",
    "            c.prev=n\n",
    "    def pop(self):\n",
    "        c=self.head\n",
    "        while c.next:\n",
    "            c=c.next\n",
    "        n1=c.prev\n",
    "        n1.next=None\n",
    "        c.prev=None\n",
    "    def headoff(self):\n",
    "        c=self.head\n",
    "        n=c.next\n",
    "        self.head=n \n",
    "        n.prev=None\n",
    "        c.next=None\n",
    "    def print_list(self):\n",
    "        c=self.head\n",
    "        while c: \n",
    "            print(c.data,end=' ')\n",
    "            c=c.next\n",
    "        print('\\n')\n",
    "    def reverse(self):\n",
    "        c=self.head\n",
    "        while c:\n",
    "            n=c.next\n",
    "            p=c.prev\n",
    "            c.next=p \n",
    "            c.prev=n\n",
    "            h=c \n",
    "            c=c.prev\n",
    "        self.head=h \n",
    "    def remove_dupli(self):\n",
    "        c=self.head \n",
    "        s=set()\n",
    "        while c:\n",
    "            if c.data not in s: \n",
    "                s.add(c.data)\n",
    "                c=c.next\n",
    "            else:\n",
    "                p=c.prev\n",
    "                n=c.next\n",
    "                if n is None:\n",
    "                    self.pop()\n",
    "                else:\n",
    "                    p.next=n \n",
    "                    n.prev=p \n",
    "                    c.next=None\n",
    "                    c.prev=None\n",
    "                c=n \n",
    "dl1=doubly_linked()\n",
    "dl1.append(1)\n",
    "dl1.append(3)\n",
    "dl1.append(4)\n",
    "dl1.append(7)\n",
    "dl1.append(10)\n",
    "dl1.delete(5)\n",
    "dl1.headoff()\n",
    "dl1.insert(2,1)\n",
    "dl1.reverse()\n",
    "dl1.print_list()\n",
    "dl1.append(3)\n",
    "dl1.append(7)\n",
    "dl1.append(2)\n",
    "dl1.print_list()\n",
    "dl1.remove_dupli()\n",
    "dl1.print_list()"
   ]
  },
  {
   "cell_type": "markdown",
   "metadata": {},
   "source": [
    "## circular linked list"
   ]
  },
  {
   "cell_type": "code",
   "execution_count": null,
   "metadata": {},
   "outputs": [],
   "source": [
    "class Node:\n",
    "    def __init__(self,data):\n",
    "        self.data=data\n",
    "        self.prev=None\n",
    "        self.next=None\n",
    "class circularlinked:\n",
    "    def __init__(self):\n",
    "        self.head=None\n",
    "    "
   ]
  },
  {
   "cell_type": "code",
   "execution_count": 6,
   "metadata": {},
   "outputs": [
    {
     "data": {
      "text/plain": [
       "26230026"
      ]
     },
     "execution_count": 6,
     "metadata": {},
     "output_type": "execute_result"
    }
   ],
   "source": [
    "9111999+17118027"
   ]
  }
 ],
 "metadata": {
  "kernelspec": {
   "display_name": "Python 3",
   "language": "python",
   "name": "python3"
  },
  "language_info": {
   "codemirror_mode": {
    "name": "ipython",
    "version": 3
   },
   "file_extension": ".py",
   "mimetype": "text/x-python",
   "name": "python",
   "nbconvert_exporter": "python",
   "pygments_lexer": "ipython3",
   "version": "3.7.6"
  },
  "varInspector": {
   "cols": {
    "lenName": 16,
    "lenType": 16,
    "lenVar": 40
   },
   "kernels_config": {
    "python": {
     "delete_cmd_postfix": "",
     "delete_cmd_prefix": "del ",
     "library": "var_list.py",
     "varRefreshCmd": "print(var_dic_list())"
    },
    "r": {
     "delete_cmd_postfix": ") ",
     "delete_cmd_prefix": "rm(",
     "library": "var_list.r",
     "varRefreshCmd": "cat(var_dic_list()) "
    }
   },
   "types_to_exclude": [
    "module",
    "function",
    "builtin_function_or_method",
    "instance",
    "_Feature"
   ],
   "window_display": false
  }
 },
 "nbformat": 4,
 "nbformat_minor": 4
}
