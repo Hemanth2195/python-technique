{
 "cells": [
  {
   "cell_type": "markdown",
   "metadata": {},
   "source": [
    "functions in regular expressions"
   ]
  },
  {
   "cell_type": "markdown",
   "metadata": {},
   "source": [
    "findall, search, split, sub, finditer"
   ]
  },
  {
   "cell_type": "markdown",
   "metadata": {},
   "source": [
    "### i have completed upto 7th video in this playlist: https://youtu.be/WH_IgZldAgU?list=PLGKQkV4guDKH1TpfM-FvPGLUyjsPGdXOg   . i think that is sufficent, in case if need check the whole playlist"
   ]
  },
  {
   "cell_type": "code",
   "execution_count": 1,
   "metadata": {},
   "outputs": [],
   "source": [
    "import re "
   ]
  },
  {
   "cell_type": "markdown",
   "metadata": {},
   "source": [
    "regex cheat sheet: https://cheatography.com/mutanclan/cheat-sheets/python-regular-expression-regex/"
   ]
  },
  {
   "cell_type": "code",
   "execution_count": 10,
   "metadata": {},
   "outputs": [
    {
     "name": "stdout",
     "output_type": "stream",
     "text": [
      "\n",
      "\n",
      "\\n\n",
      "\\n\n"
     ]
    }
   ],
   "source": [
    "print('\\n') #prints a empty line\n",
    "print('\\\\n')\n",
    "#or we can do like\n",
    "print((r'\\n')) #actually wants to print '\\n', we use 'r'--> which is called raw_string"
   ]
  },
  {
   "cell_type": "code",
   "execution_count": 6,
   "metadata": {},
   "outputs": [
    {
     "name": "stdout",
     "output_type": "stream",
     "text": [
      "['1', '2', '3']\n"
     ]
    },
    {
     "data": {
      "text/plain": [
       "['h', 'e', 'm', 'a', 'n', 't', 'h']"
      ]
     },
     "execution_count": 6,
     "metadata": {},
     "output_type": "execute_result"
    }
   ],
   "source": [
    "print(re.findall('\\d','hemanth123'))\n",
    "re.findall('\\D','hemanth123')"
   ]
  },
  {
   "cell_type": "markdown",
   "metadata": {},
   "source": [
    "'\\d'- for all digits and '\\D'  for all non-digits"
   ]
  },
  {
   "cell_type": "markdown",
   "metadata": {},
   "source": [
    "### example: checking valid e-mail or not"
   ]
  },
  {
   "cell_type": "code",
   "execution_count": 9,
   "metadata": {},
   "outputs": [
    {
     "name": "stdout",
     "output_type": "stream",
     "text": [
      "valid email\n"
     ]
    }
   ],
   "source": [
    "mail='hemanthkumar@gmail.com'\n",
    "if re.search('^[a-zA-Z0-9]+@+[a-zA-Z]+\\.+(com|net|edu)',mail):\n",
    "    print('valid email')\n",
    "else:\n",
    "    print('invalid email')"
   ]
  },
  {
   "cell_type": "markdown",
   "metadata": {},
   "source": [
    "above is just an example not a perfect one, it don't work always. in real mail checker is more complicated."
   ]
  },
  {
   "cell_type": "markdown",
   "metadata": {},
   "source": [
    "### match and search"
   ]
  },
  {
   "cell_type": "code",
   "execution_count": 11,
   "metadata": {},
   "outputs": [
    {
     "data": {
      "text/plain": [
       "False"
      ]
     },
     "execution_count": 11,
     "metadata": {},
     "output_type": "execute_result"
    }
   ],
   "source": [
    "bool(re.match('c','abcdr'))"
   ]
  },
  {
   "cell_type": "code",
   "execution_count": 12,
   "metadata": {},
   "outputs": [
    {
     "data": {
      "text/plain": [
       "True"
      ]
     },
     "execution_count": 12,
     "metadata": {},
     "output_type": "execute_result"
    }
   ],
   "source": [
    "bool(re.match('a','abcdr')) "
   ]
  },
  {
   "cell_type": "markdown",
   "metadata": {},
   "source": [
    "match always matches with the first charecter"
   ]
  },
  {
   "cell_type": "code",
   "execution_count": 13,
   "metadata": {},
   "outputs": [
    {
     "data": {
      "text/plain": [
       "<re.Match object; span=(0, 1), match='a'>"
      ]
     },
     "execution_count": 13,
     "metadata": {},
     "output_type": "execute_result"
    }
   ],
   "source": [
    "re.search('a','abcakd')"
   ]
  },
  {
   "cell_type": "markdown",
   "metadata": {},
   "source": [
    "search gives the first location of the match"
   ]
  },
  {
   "cell_type": "code",
   "execution_count": 16,
   "metadata": {},
   "outputs": [
    {
     "data": {
      "text/plain": [
       "'a'"
      ]
     },
     "execution_count": 16,
     "metadata": {},
     "output_type": "execute_result"
    }
   ],
   "source": [
    "re.match('a','abcefg').group() #used to print the match"
   ]
  },
  {
   "cell_type": "code",
   "execution_count": 17,
   "metadata": {},
   "outputs": [
    {
     "data": {
      "text/plain": [
       "0"
      ]
     },
     "execution_count": 17,
     "metadata": {},
     "output_type": "execute_result"
    }
   ],
   "source": [
    "re.search('a','abcakd').start() #gives the starting index"
   ]
  },
  {
   "cell_type": "code",
   "execution_count": 18,
   "metadata": {},
   "outputs": [
    {
     "data": {
      "text/plain": [
       "1"
      ]
     },
     "execution_count": 18,
     "metadata": {},
     "output_type": "execute_result"
    }
   ],
   "source": [
    "re.search('a','abcakd').end() #gives the ending index"
   ]
  },
  {
   "cell_type": "code",
   "execution_count": 22,
   "metadata": {},
   "outputs": [
    {
     "data": {
      "text/plain": [
       "<re.Match object; span=(0, 1), match='a'>"
      ]
     },
     "execution_count": 22,
     "metadata": {},
     "output_type": "execute_result"
    }
   ],
   "source": [
    "re.search('a|b|k','abcakd') #searching for 'a' or 'b' #gives the first match"
   ]
  },
  {
   "cell_type": "markdown",
   "metadata": {},
   "source": [
    "### findall"
   ]
  },
  {
   "cell_type": "markdown",
   "metadata": {},
   "source": [
    "pulls out all the instances of the given pattern"
   ]
  },
  {
   "cell_type": "code",
   "execution_count": 23,
   "metadata": {},
   "outputs": [
    {
     "data": {
      "text/plain": [
       "['abc', 'abc']"
      ]
     },
     "execution_count": 23,
     "metadata": {},
     "output_type": "execute_result"
    }
   ],
   "source": [
    "re.findall('abc','abcdeg abce')"
   ]
  },
  {
   "cell_type": "code",
   "execution_count": 24,
   "metadata": {},
   "outputs": [
    {
     "data": {
      "text/plain": [
       "['a', 'b', 'b']"
      ]
     },
     "execution_count": 24,
     "metadata": {},
     "output_type": "execute_result"
    }
   ],
   "source": [
    "re.findall('a|b','abcd b')"
   ]
  },
  {
   "cell_type": "markdown",
   "metadata": {},
   "source": [
    "### charecter set"
   ]
  },
  {
   "cell_type": "code",
   "execution_count": 28,
   "metadata": {},
   "outputs": [
    {
     "data": {
      "text/plain": [
       "<re.Match object; span=(0, 12), match='hemanth_1999'>"
      ]
     },
     "execution_count": 28,
     "metadata": {},
     "output_type": "execute_result"
    }
   ],
   "source": [
    "re.search('\\w+','hemanth_1999')"
   ]
  },
  {
   "cell_type": "markdown",
   "metadata": {},
   "source": [
    "'\\w' is the charecter set of [a-zA-Z0-9_]\n",
    "\n",
    "'\\W' is the opposite of above set "
   ]
  },
  {
   "cell_type": "code",
   "execution_count": 29,
   "metadata": {},
   "outputs": [
    {
     "data": {
      "text/plain": [
       "'heman'"
      ]
     },
     "execution_count": 29,
     "metadata": {},
     "output_type": "execute_result"
    }
   ],
   "source": [
    "re.search('\\w+','heman@th_1999').group()"
   ]
  },
  {
   "cell_type": "markdown",
   "metadata": {},
   "source": [
    "### quntifiers"
   ]
  },
  {
   "cell_type": "markdown",
   "metadata": {},
   "source": [
    "'+' - one or more occurences\n",
    "\n",
    "'*' - zero or more occurences\n",
    "\n",
    "'?' - zero or one occrence\n",
    "\n",
    "'{n,m} - n to m no.of time occurences \n",
    "\n",
    "#### we can skip upper or lower bound by :{,3} --> upto 3 times, {3,} --> 3 or more times\n"
   ]
  },
  {
   "cell_type": "markdown",
   "metadata": {},
   "source": [
    "### other types of charecter sets"
   ]
  },
  {
   "cell_type": "markdown",
   "metadata": {},
   "source": [
    "'\\d' -[0-9]\n",
    "\n",
    "'\\D' -not [0-9]\n",
    "\n",
    "'\\s' -white space\n",
    "\n",
    "'\\S' -non white space"
   ]
  },
  {
   "cell_type": "markdown",
   "metadata": {},
   "source": [
    "'.' - the dot matches any cahrecter except a new line."
   ]
  },
  {
   "cell_type": "code",
   "execution_count": 36,
   "metadata": {},
   "outputs": [
    {
     "data": {
      "text/plain": [
       "'Historically, and in current teaching, the study of algebra starts with the solving of equations such as the quadratic equation above. Then more general questions, such as \"does an equation have a solution?\", \"how many solutions does an equation have?\", \"what can be said about the nature of the solutions?\" are considered. These questions led extending algebra to non-numerical objects, '"
      ]
     },
     "execution_count": 36,
     "metadata": {},
     "output_type": "execute_result"
    }
   ],
   "source": [
    "s='''Historically, and in current teaching, the study of algebra starts with the solving of equations such as the quadratic equation above. Then more general questions, such as \"does an equation have a solution?\", \"how many solutions does an equation have?\", \"what can be said about the nature of the solutions?\" are considered. These questions led extending algebra to non-numerical objects, \n",
    "\n",
    "such as permutations, vectors, matrices, and polynomials. The structural properties of these non-numerical objects were then abstracted into algebraic structures such as groups, rings, and fields.Before the 16th century, mathematics was divided into only two subfields, arithmetic and geometry. Even though some methods, which had been developed much earlier, may be considered nowadays as algebra,\n",
    "\n",
    "the emergence of algebra and, soon thereafter, of infinitesimal calculus as subfields of mathematics only dates from the 16th or 17th century. From the second half of the 19th century on, many new fields of mathematics appeared, most of which made use of both arithmetic and geometry, and almost all of which used algebra.'''\n",
    "re.search('.+',s).group()"
   ]
  },
  {
   "cell_type": "markdown",
   "metadata": {},
   "source": [
    "only matching the first line, don't take in count for the rest."
   ]
  },
  {
   "cell_type": "markdown",
   "metadata": {},
   "source": [
    "if we need to consider the rest of the lines also we should write the below code"
   ]
  },
  {
   "cell_type": "code",
   "execution_count": 37,
   "metadata": {},
   "outputs": [
    {
     "data": {
      "text/plain": [
       "'Historically, and in current teaching, the study of algebra starts with the solving of equations such as the quadratic equation above. Then more general questions, such as \"does an equation have a solution?\", \"how many solutions does an equation have?\", \"what can be said about the nature of the solutions?\" are considered. These questions led extending algebra to non-numerical objects, \\n\\nsuch as permutations, vectors, matrices, and polynomials. The structural properties of these non-numerical objects were then abstracted into algebraic structures such as groups, rings, and fields.Before the 16th century, mathematics was divided into only two subfields, arithmetic and geometry. Even though some methods, which had been developed much earlier, may be considered nowadays as algebra,\\n\\nthe emergence of algebra and, soon thereafter, of infinitesimal calculus as subfields of mathematics only dates from the 16th or 17th century. From the second half of the 19th century on, many new fields of mathematics appeared, most of which made use of both arithmetic and geometry, and almost all of which used algebra.'"
      ]
     },
     "execution_count": 37,
     "metadata": {},
     "output_type": "execute_result"
    }
   ],
   "source": [
    "re.search('.+',s,flags=re.DOTALL).group()"
   ]
  },
  {
   "cell_type": "markdown",
   "metadata": {},
   "source": [
    "### creating our own cahrecter set"
   ]
  },
  {
   "cell_type": "code",
   "execution_count": 38,
   "metadata": {},
   "outputs": [
    {
     "data": {
      "text/plain": [
       "['H', 'K', 'K']"
      ]
     },
     "execution_count": 38,
     "metadata": {},
     "output_type": "execute_result"
    }
   ],
   "source": [
    "re.findall('[A-Z]','Hemanth Kumar Karangi')"
   ]
  },
  {
   "cell_type": "code",
   "execution_count": 41,
   "metadata": {},
   "outputs": [
    {
     "data": {
      "text/plain": [
       "['H', '.']"
      ]
     },
     "execution_count": 41,
     "metadata": {},
     "output_type": "execute_result"
    }
   ],
   "source": [
    "re.findall('[A-Z.]','Hemanth.karangi') #notice here within the set the '.' is considered as '.' only, not as a any charecter."
   ]
  },
  {
   "cell_type": "markdown",
   "metadata": {},
   "source": [
    "^[] - represents starts with\n",
    "\n",
    "[^] - does not start with the elements in the set\n"
   ]
  },
  {
   "cell_type": "code",
   "execution_count": 51,
   "metadata": {},
   "outputs": [
    {
     "data": {
      "text/plain": [
       "['Hemanth']"
      ]
     },
     "execution_count": 51,
     "metadata": {},
     "output_type": "execute_result"
    }
   ],
   "source": [
    "re.findall('^[A-Z]?[a-z]+','HemanthKarangi')"
   ]
  },
  {
   "cell_type": "code",
   "execution_count": 52,
   "metadata": {},
   "outputs": [
    {
     "data": {
      "text/plain": [
       "['emanth', 'arangi']"
      ]
     },
     "execution_count": 52,
     "metadata": {},
     "output_type": "execute_result"
    }
   ],
   "source": [
    "re.findall('[^A-Z]?[a-z]+','HemanthKarangi')"
   ]
  },
  {
   "cell_type": "markdown",
   "metadata": {},
   "source": [
    "### groups"
   ]
  },
  {
   "cell_type": "code",
   "execution_count": 62,
   "metadata": {},
   "outputs": [],
   "source": [
    "s='Hemanth has 3 dogs, Sanjay had 2 parrots and Vinod had 1 hsuky' "
   ]
  },
  {
   "cell_type": "code",
   "execution_count": 63,
   "metadata": {},
   "outputs": [
    {
     "data": {
      "text/plain": [
       "['Hemanth has 3 dogs', 'Sanjay had 2 parrots', 'Vinod had 1 hsuky']"
      ]
     },
     "execution_count": 63,
     "metadata": {},
     "output_type": "execute_result"
    }
   ],
   "source": [
    "re.findall('[A-Za-z]+ \\w+ \\d+ \\w+',s) "
   ]
  },
  {
   "cell_type": "code",
   "execution_count": 65,
   "metadata": {},
   "outputs": [
    {
     "data": {
      "text/plain": [
       "['Hemanth', 'Sanjay', 'Vinod']"
      ]
     },
     "execution_count": 65,
     "metadata": {},
     "output_type": "execute_result"
    }
   ],
   "source": [
    "re.findall('([A-Za-z]+) \\w+ \\d+ \\w+',s)  #from the paterns we find we want the pattern in the ()"
   ]
  },
  {
   "cell_type": "code",
   "execution_count": 66,
   "metadata": {},
   "outputs": [
    {
     "data": {
      "text/plain": [
       "['dogs', 'parrots', 'hsuky']"
      ]
     },
     "execution_count": 66,
     "metadata": {},
     "output_type": "execute_result"
    }
   ],
   "source": [
    "re.findall('[A-Za-z]+ \\w+ \\d+ (\\w+)',s)"
   ]
  },
  {
   "cell_type": "code",
   "execution_count": 67,
   "metadata": {},
   "outputs": [
    {
     "data": {
      "text/plain": [
       "[('Hemanth', '3', 'dogs'), ('Sanjay', '2', 'parrots'), ('Vinod', '1', 'hsuky')]"
      ]
     },
     "execution_count": 67,
     "metadata": {},
     "output_type": "execute_result"
    }
   ],
   "source": [
    "re.findall('([A-Za-z]+) \\w+ (\\d+) (\\w+)',s)"
   ]
  },
  {
   "cell_type": "code",
   "execution_count": 69,
   "metadata": {},
   "outputs": [
    {
     "name": "stdout",
     "output_type": "stream",
     "text": [
      "[('Hemanth', 'Sanjay', 'Vinod'), ('3', '2', '1'), ('dogs', 'parrots', 'hsuky')]\n"
     ]
    }
   ],
   "source": [
    "info=re.findall('([A-Za-z]+) \\w+ (\\d+) (\\w+)',s)\n",
    "print(list(zip(*info)))"
   ]
  },
  {
   "cell_type": "code",
   "execution_count": 70,
   "metadata": {},
   "outputs": [
    {
     "data": {
      "text/plain": [
       "[('Hemanth has 3 dogs', 'Hemanth', '3', 'dogs'),\n",
       " ('Sanjay had 2 parrots', 'Sanjay', '2', 'parrots'),\n",
       " ('Vinod had 1 hsuky', 'Vinod', '1', 'hsuky')]"
      ]
     },
     "execution_count": 70,
     "metadata": {},
     "output_type": "execute_result"
    }
   ],
   "source": [
    "re.findall('(([A-Za-z]+) \\w+ (\\d+) (\\w+))',s)"
   ]
  },
  {
   "cell_type": "code",
   "execution_count": 71,
   "metadata": {},
   "outputs": [
    {
     "name": "stdout",
     "output_type": "stream",
     "text": [
      "('Hemanth has 3 dogs', 'Hemanth', '3', 'dogs')\n",
      "('Sanjay had 2 parrots', 'Sanjay', '2', 'parrots')\n",
      "('Vinod had 1 hsuky', 'Vinod', '1', 'hsuky')\n"
     ]
    }
   ],
   "source": [
    "for i in re.findall('(([A-Za-z]+) \\w+ (\\d+) (\\w+))',s):\n",
    "    print(i)"
   ]
  },
  {
   "cell_type": "markdown",
   "metadata": {},
   "source": [
    "### naming groups"
   ]
  },
  {
   "cell_type": "code",
   "execution_count": 73,
   "metadata": {},
   "outputs": [
    {
     "data": {
      "text/plain": [
       "['v.z.m, gummalakshmipuram, 535523']"
      ]
     },
     "execution_count": 73,
     "metadata": {},
     "output_type": "execute_result"
    }
   ],
   "source": [
    "s='v.z.m, gummalakshmipuram, 535523'\n",
    "re.findall('[A-Za-z.]+,\\s[A-Za-z.]+,\\s[0-9]+',s)"
   ]
  },
  {
   "cell_type": "markdown",
   "metadata": {},
   "source": [
    "naming each group"
   ]
  },
  {
   "cell_type": "code",
   "execution_count": 78,
   "metadata": {},
   "outputs": [],
   "source": [
    "pattern=re.compile('(?P<city>[A-Za-z.]+),(?P<village>\\s[A-Za-z.]+),(?P<pin_code>\\s[0-9]+)')\n",
    "#we can use above line but below one also works good"
   ]
  },
  {
   "cell_type": "code",
   "execution_count": 76,
   "metadata": {},
   "outputs": [
    {
     "data": {
      "text/plain": [
       "[('v.z.m', ' gummalakshmipuram', ' 535523')]"
      ]
     },
     "execution_count": 76,
     "metadata": {},
     "output_type": "execute_result"
    }
   ],
   "source": [
    "re.findall('(?P<city>[A-Za-z.]+),(?P<village>\\s[A-Za-z.]+),(?P<pin_code>\\s[0-9]+)',s)"
   ]
  },
  {
   "cell_type": "code",
   "execution_count": 80,
   "metadata": {},
   "outputs": [
    {
     "data": {
      "text/plain": [
       "{'city': 'v.z.m', 'village': ' gummalakshmipuram', 'pin_code': ' 535523'}"
      ]
     },
     "execution_count": 80,
     "metadata": {},
     "output_type": "execute_result"
    }
   ],
   "source": [
    "match=re.search('(?P<city>[A-Za-z.]+),(?P<village>\\s[A-Za-z.]+),(?P<pin_code>\\s[0-9]+)',s)\n",
    "match.groupdict() "
   ]
  },
  {
   "cell_type": "code",
   "execution_count": 81,
   "metadata": {},
   "outputs": [
    {
     "data": {
      "text/plain": [
       "'v.z.m'"
      ]
     },
     "execution_count": 81,
     "metadata": {},
     "output_type": "execute_result"
    }
   ],
   "source": [
    "match.group(1)"
   ]
  },
  {
   "cell_type": "code",
   "execution_count": 85,
   "metadata": {},
   "outputs": [
    {
     "data": {
      "text/plain": [
       "('1',)"
      ]
     },
     "execution_count": 85,
     "metadata": {},
     "output_type": "execute_result"
    }
   ],
   "source": [
    "re.search('(\\d)+','1,2,3,4,5,6,7,8,9').groups()"
   ]
  },
  {
   "cell_type": "code",
   "execution_count": null,
   "metadata": {},
   "outputs": [],
   "source": []
  }
 ],
 "metadata": {
  "kernelspec": {
   "display_name": "Python 3",
   "language": "python",
   "name": "python3"
  },
  "language_info": {
   "codemirror_mode": {
    "name": "ipython",
    "version": 3
   },
   "file_extension": ".py",
   "mimetype": "text/x-python",
   "name": "python",
   "nbconvert_exporter": "python",
   "pygments_lexer": "ipython3",
   "version": "3.7.6"
  },
  "varInspector": {
   "cols": {
    "lenName": 16,
    "lenType": 16,
    "lenVar": 40
   },
   "kernels_config": {
    "python": {
     "delete_cmd_postfix": "",
     "delete_cmd_prefix": "del ",
     "library": "var_list.py",
     "varRefreshCmd": "print(var_dic_list())"
    },
    "r": {
     "delete_cmd_postfix": ") ",
     "delete_cmd_prefix": "rm(",
     "library": "var_list.r",
     "varRefreshCmd": "cat(var_dic_list()) "
    }
   },
   "types_to_exclude": [
    "module",
    "function",
    "builtin_function_or_method",
    "instance",
    "_Feature"
   ],
   "window_display": false
  }
 },
 "nbformat": 4,
 "nbformat_minor": 4
}
