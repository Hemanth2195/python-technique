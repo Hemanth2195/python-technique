{
 "cells": [
  {
   "cell_type": "markdown",
   "metadata": {},
   "source": [
    "## selection sort"
   ]
  },
  {
   "cell_type": "markdown",
   "metadata": {},
   "source": [
    "the minimum element is moved to the first for each iteration"
   ]
  },
  {
   "cell_type": "code",
   "execution_count": 2,
   "metadata": {},
   "outputs": [
    {
     "name": "stdout",
     "output_type": "stream",
     "text": [
      "[2, 4, 6, 7, 9, 10, 11, 30, 42]\n"
     ]
    }
   ],
   "source": [
    "l=[4,7,2,6,9,10,42,30,11]\n",
    "l1=[]\n",
    "for i in range(len(l)):\n",
    "    m1=min(l)\n",
    "    l1.append(m1)\n",
    "    c=l.index(m1)\n",
    "    l[c]=1000\n",
    "print(l1)\n",
    "## needs extra space "
   ]
  },
  {
   "cell_type": "code",
   "execution_count": 5,
   "metadata": {},
   "outputs": [
    {
     "data": {
      "text/plain": [
       "[1, 2, 3, 4, 6, 8, 11, 52, 100]"
      ]
     },
     "execution_count": 5,
     "metadata": {},
     "output_type": "execute_result"
    }
   ],
   "source": [
    "## no extra space needed\n",
    "a=[2,4,1,3,8,6,11,52,100]\n",
    "for i in range(len(l)):\n",
    "    m1=min(a[i:])  #c1*(o(n)+o(n-1)+o(n-2)...) =c1*((n*(n-1))//2)\n",
    "    i1=a.index(m1) #c2*n\n",
    "    a[i],a[i1]=a[i1],a[i]  #c3*n\n",
    "a "
   ]
  },
  {
   "cell_type": "markdown",
   "metadata": {},
   "source": [
    "time complexity : an^2+bn+c~O(n^2)"
   ]
  },
  {
   "cell_type": "markdown",
   "metadata": {},
   "source": [
    "## bubble sort"
   ]
  },
  {
   "cell_type": "markdown",
   "metadata": {},
   "source": [
    "bubble in water float up and similarly the largest elements will move to right one after the other."
   ]
  },
  {
   "cell_type": "code",
   "execution_count": 7,
   "metadata": {},
   "outputs": [
    {
     "data": {
      "text/plain": [
       "[1, 2, 11, 12, 23, 45, 69]"
      ]
     },
     "execution_count": 7,
     "metadata": {},
     "output_type": "execute_result"
    }
   ],
   "source": [
    "a=[1,2,45,11,23,69,12]\n",
    "for k in range(len(a)):\n",
    "    t=0\n",
    "    for i in range(1,len(a)-k):\n",
    "        if a[i-1]>a[i]:\n",
    "            a[i-1],a[i]=a[i],a[i-1]\n",
    "            t=1 \n",
    "    if t==0:\n",
    "        break \n",
    "a "
   ]
  },
  {
   "cell_type": "markdown",
   "metadata": {},
   "source": [
    "time complexity: for worest case=O(n^2), \n",
    "but in general case can be completed in even less time.\n",
    "best case:O(n)"
   ]
  },
  {
   "cell_type": "markdown",
   "metadata": {},
   "source": [
    "## insertion sort"
   ]
  },
  {
   "cell_type": "markdown",
   "metadata": {},
   "source": [
    "we select one element in an iteration, then move all the elements greater than that element to the right and the rest will be left side."
   ]
  },
  {
   "cell_type": "code",
   "execution_count": 1,
   "metadata": {},
   "outputs": [
    {
     "data": {
      "text/plain": [
       "[9, 11, 12, 17, 23, 30, 50, 54]"
      ]
     },
     "execution_count": 1,
     "metadata": {},
     "output_type": "execute_result"
    }
   ],
   "source": [
    "a=[17,50,9,11,23,54,12,30]\n",
    "for h in range(1,len(a)): #c1*n\n",
    "    j=h \n",
    "    while a[j]<a[j-1] and j!=0: #c1*(1+2+3+..)=c2*((n*(n-1))//2)\n",
    "        a[j],a[j-1]=a[j-1],a[j]\n",
    "        j=j-1 \n",
    "a "
   ]
  },
  {
   "cell_type": "markdown",
   "metadata": {},
   "source": [
    "time complexity: an^2+bn+c"
   ]
  },
  {
   "cell_type": "markdown",
   "metadata": {},
   "source": [
    "# recursion sorting algorithms"
   ]
  },
  {
   "cell_type": "markdown",
   "metadata": {},
   "source": [
    "# merge sort"
   ]
  },
  {
   "cell_type": "markdown",
   "metadata": {},
   "source": [
    "it is 1.stable sorting algorithm, 2.recursive, 3.divide and conquer type"
   ]
  },
  {
   "cell_type": "markdown",
   "metadata": {},
   "source": [
    "we divide the array into 2 halves and sort them at each iteration we select the smallest of each and replace it in the original list in the proper position."
   ]
  },
  {
   "cell_type": "code",
   "execution_count": 15,
   "metadata": {},
   "outputs": [
    {
     "data": {
      "text/plain": [
       "[1, 3, 4, 6, 7, 25]"
      ]
     },
     "execution_count": 15,
     "metadata": {},
     "output_type": "execute_result"
    }
   ],
   "source": [
    "def merge(a,b,A): #to merge two already sorted lists\n",
    "    l1=len(a)\n",
    "    l2=len(b)\n",
    "    i,j,k=0,0,0\n",
    "    while i<l1 and j<l2:\n",
    "        if a[i]<b[j]:\n",
    "            A[k]=a[i]\n",
    "            i=i+1\n",
    "            k=k+1\n",
    "        else:\n",
    "            A[k]=b[j]\n",
    "            j=j+1\n",
    "            k=k+1\n",
    "    while i<l1:\n",
    "        A[k]=a[i]\n",
    "        i=i+1\n",
    "        k=k+1\n",
    "    while j<l2:\n",
    "        A[k]=b[j]\n",
    "        j=j+1\n",
    "        k=k+1\n",
    "    return A\n",
    "def merge_sort(A):\n",
    "    n=len(A)\n",
    "    if n<2:\n",
    "        return  \n",
    "    mid=n//2\n",
    "    left=A[:mid]\n",
    "    right=A[mid:]\n",
    "    merge_sort(left)\n",
    "    merge_sort(right)\n",
    "    merge(left,right,A)\n",
    "    return A \n",
    "A=[7,1,25,3,4,6]\n",
    "merge_sort(A)"
   ]
  },
  {
   "cell_type": "markdown",
   "metadata": {},
   "source": [
    "time complexity: O(n*lon(n)), space complexity: theta(n*log(n)), how to calculate:https://youtu.be/0nlPxaC2lTw?list=PL2_aWCzGMAwKedT2KfDMB9YA5DgASZb3U"
   ]
  },
  {
   "cell_type": "markdown",
   "metadata": {},
   "source": [
    "# quick sort"
   ]
  },
  {
   "cell_type": "markdown",
   "metadata": {},
   "source": [
    "most afficient"
   ]
  },
  {
   "cell_type": "markdown",
   "metadata": {},
   "source": [
    "partition- it is to move all the elements less than piviot element to it's left and larger to the right.\n",
    "quick sort- it recursively calls the partition function to sort the whole array."
   ]
  },
  {
   "cell_type": "code",
   "execution_count": 31,
   "metadata": {},
   "outputs": [
    {
     "data": {
      "text/plain": [
       "[1, 4, 5, 7, 8, 9, 12, 23]"
      ]
     },
     "execution_count": 31,
     "metadata": {},
     "output_type": "execute_result"
    }
   ],
   "source": [
    "a=[4,5,1,23,7,12,9,8]\n",
    "def partition(A,s,e):\n",
    "    pi=s # partition index\n",
    "    for i in range(s,e): \n",
    "        if A[i]<=A[e]:   # we have taken the last element as the piviot element\n",
    "            A[i],A[pi]=A[pi],A[i]\n",
    "            pi=pi+1 \n",
    "    A[pi],A[e]=A[e],A[pi]\n",
    "    return pi \n",
    "def quick_sort(A,s,e):\n",
    "    if s<e: \n",
    "        pi=partition(A,s,e)\n",
    "        quick_sort(A,s,pi-1)   # left half\n",
    "        quick_sort(A,pi+1,e) # right half\n",
    "    return None\n",
    "\n",
    "quick_sort(a,0,len(a)-1)\n",
    "a "
   ]
  },
  {
   "cell_type": "markdown",
   "metadata": {},
   "source": [
    "time complexity:O(n^2) worest case, \n",
    "in general :O(n*log(n))"
   ]
  },
  {
   "cell_type": "markdown",
   "metadata": {},
   "source": [
    "it is not-stable algorithm"
   ]
  },
  {
   "cell_type": "markdown",
   "metadata": {},
   "source": [
    "we can reduce the time complexity of the algorithm by choosing pivot index randomly"
   ]
  },
  {
   "cell_type": "code",
   "execution_count": 46,
   "metadata": {},
   "outputs": [
    {
     "data": {
      "text/plain": [
       "[1, 4, 5, 7, 8, 9, 12, 23]"
      ]
     },
     "execution_count": 46,
     "metadata": {},
     "output_type": "execute_result"
    }
   ],
   "source": [
    "import random\n",
    "def partition(A,s,e):\n",
    "    pi=s # partition index\n",
    "    h=random.randint(s,e) # piviot index\n",
    "    A[h],A[e]=A[e],A[h]\n",
    "    for i in range(s,e): \n",
    "        if A[i]<=A[e]:\n",
    "            A[i],A[pi]=A[pi],A[i]\n",
    "            pi=pi+1 \n",
    "    A[pi],A[e]=A[e],A[pi]\n",
    "    return pi \n",
    "def quick_sort(A,s,e):\n",
    "    if s<e: \n",
    "        pi=partition(A,s,e)\n",
    "        quick_sort(A,s,pi-1)   # left half\n",
    "        quick_sort(A,pi+1,e) # right half\n",
    "    return None\n",
    "quick_sort(a,0,len(a)-1)\n",
    "a "
   ]
  },
  {
   "cell_type": "code",
   "execution_count": 45,
   "metadata": {},
   "outputs": [
    {
     "data": {
      "text/plain": [
       "1"
      ]
     },
     "execution_count": 45,
     "metadata": {},
     "output_type": "execute_result"
    }
   ],
   "source": [
    "random.randint(1,2)"
   ]
  },
  {
   "cell_type": "code",
   "execution_count": null,
   "metadata": {},
   "outputs": [],
   "source": []
  },
  {
   "cell_type": "code",
   "execution_count": null,
   "metadata": {},
   "outputs": [],
   "source": []
  }
 ],
 "metadata": {
  "kernelspec": {
   "display_name": "Python 3",
   "language": "python",
   "name": "python3"
  },
  "language_info": {
   "codemirror_mode": {
    "name": "ipython",
    "version": 3
   },
   "file_extension": ".py",
   "mimetype": "text/x-python",
   "name": "python",
   "nbconvert_exporter": "python",
   "pygments_lexer": "ipython3",
   "version": "3.7.6"
  },
  "varInspector": {
   "cols": {
    "lenName": 16,
    "lenType": 16,
    "lenVar": 40
   },
   "kernels_config": {
    "python": {
     "delete_cmd_postfix": "",
     "delete_cmd_prefix": "del ",
     "library": "var_list.py",
     "varRefreshCmd": "print(var_dic_list())"
    },
    "r": {
     "delete_cmd_postfix": ") ",
     "delete_cmd_prefix": "rm(",
     "library": "var_list.r",
     "varRefreshCmd": "cat(var_dic_list()) "
    }
   },
   "types_to_exclude": [
    "module",
    "function",
    "builtin_function_or_method",
    "instance",
    "_Feature"
   ],
   "window_display": false
  }
 },
 "nbformat": 4,
 "nbformat_minor": 4
}
