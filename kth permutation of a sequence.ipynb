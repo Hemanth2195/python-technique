{
 "cells": [
  {
   "cell_type": "markdown",
   "metadata": {},
   "source": [
    "concept: https://youtu.be/W9SIlE2jhBQ"
   ]
  },
  {
   "cell_type": "markdown",
   "metadata": {},
   "source": [
    "problem: https://www.interviewbit.com/problems/kth-permutation-sequence/"
   ]
  },
  {
   "cell_type": "code",
   "execution_count": 1,
   "metadata": {},
   "outputs": [],
   "source": [
    "class Solution:\n",
    "    # @param A : integer\n",
    "    # @param B : integer\n",
    "    # @return a strings\n",
    "    \n",
    "    def factorial(self,a):\n",
    "        if a==0:\n",
    "            return 1\n",
    "        else:\n",
    "            return a*self.factorial(a-1)\n",
    "            \n",
    "    def getPermutation(self, A, B): \n",
    "        s=''\n",
    "        a=[i+1 for i in range(A)]\n",
    "        bs=self.factorial(A) #tottal block size\n",
    "        for i in range(A,0,-1):\n",
    "            bs=bs//i #box size of i parts\n",
    "            bp=B//bs #required box position\n",
    "            if B%bs!=0:\n",
    "                bp=bp+1\n",
    "            s=s+str(a[bp-1])\n",
    "            a.remove(a[bp-1]) \n",
    "            B=B-bs*(bp-1)\n",
    "        return s "
   ]
  },
  {
   "cell_type": "code",
   "execution_count": 2,
   "metadata": {},
   "outputs": [
    {
     "data": {
      "text/plain": [
       "'3142'"
      ]
     },
     "execution_count": 2,
     "metadata": {},
     "output_type": "execute_result"
    }
   ],
   "source": [
    "A=4\n",
    "B=14\n",
    "c1=Solution()\n",
    "c1.getPermutation(A,B)"
   ]
  },
  {
   "cell_type": "code",
   "execution_count": null,
   "metadata": {},
   "outputs": [],
   "source": []
  }
 ],
 "metadata": {
  "kernelspec": {
   "display_name": "Python 3",
   "language": "python",
   "name": "python3"
  },
  "language_info": {
   "codemirror_mode": {
    "name": "ipython",
    "version": 3
   },
   "file_extension": ".py",
   "mimetype": "text/x-python",
   "name": "python",
   "nbconvert_exporter": "python",
   "pygments_lexer": "ipython3",
   "version": "3.7.6"
  },
  "varInspector": {
   "cols": {
    "lenName": 16,
    "lenType": 16,
    "lenVar": 40
   },
   "kernels_config": {
    "python": {
     "delete_cmd_postfix": "",
     "delete_cmd_prefix": "del ",
     "library": "var_list.py",
     "varRefreshCmd": "print(var_dic_list())"
    },
    "r": {
     "delete_cmd_postfix": ") ",
     "delete_cmd_prefix": "rm(",
     "library": "var_list.r",
     "varRefreshCmd": "cat(var_dic_list()) "
    }
   },
   "types_to_exclude": [
    "module",
    "function",
    "builtin_function_or_method",
    "instance",
    "_Feature"
   ],
   "window_display": false
  }
 },
 "nbformat": 4,
 "nbformat_minor": 4
}
