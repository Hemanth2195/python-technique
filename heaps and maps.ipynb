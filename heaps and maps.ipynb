{
 "cells": [
  {
   "cell_type": "markdown",
   "metadata": {},
   "source": [
    "heaps~priority quees"
   ]
  },
  {
   "cell_type": "markdown",
   "metadata": {},
   "source": [
    "we use heapq module for using heaps : https://docs.python.org/3/library/heapq.html#heapq.heapify"
   ]
  },
  {
   "cell_type": "markdown",
   "metadata": {},
   "source": [
    "read why use heaps from: https://www.interviewbit.com/tutorial/why-treemaps-heaps/#why-treemaps-heaps"
   ]
  },
  {
   "cell_type": "markdown",
   "metadata": {},
   "source": [
    "heaps can be told as the improved version of BST. a heap can be represented as a balanced BST. which makes us to get the child nodes of a parent node easily during the searching operations.\n",
    "there are 2 types of heaps: 1.min_heap and 2.max_heap\n",
    "1.for min_heap the parent node is smaller than the child nodes and 2. for max_heap vise versa. example min_heap:[1,2,9,11,3,25,17,13,90,57]"
   ]
  },
  {
   "cell_type": "markdown",
   "metadata": {},
   "source": [
    "for a given node of index-i: index of 1.parent node=(i-1)//2, \n",
    "\n",
    "                             2.left child=2*i+1,\n",
    "                             \n",
    "                             3.right child=2*i+2"
   ]
  },
  {
   "cell_type": "markdown",
   "metadata": {},
   "source": [
    "heapq.heapify gives us the min_heap only.\n",
    "\n",
    "for max_heap we use: heapq._heapify_max"
   ]
  },
  {
   "cell_type": "markdown",
   "metadata": {},
   "source": [
    "USE: heaps are good at solving problems on kth largest and kth smallest elements in an array. see: https://youtu.be/hW8PrQrvMNc\n",
    "\n",
    "this application of heaps is used to solve the probelm : https://www.interviewbit.com/problems/n-max-pair-combinations/\n",
    "\n",
    "use 1.max_heap for first k smallest elements and 2.min_heap for first k largest elements."
   ]
  },
  {
   "cell_type": "markdown",
   "metadata": {},
   "source": [
    "without the module we can implement heaps as:"
   ]
  },
  {
   "cell_type": "code",
   "execution_count": 1,
   "metadata": {},
   "outputs": [
    {
     "name": "stdout",
     "output_type": "stream",
     "text": [
      "Enter the list of numbers: -1 10 8 9 10 -8 11\n",
      "Sorted list: [-8, -1, 8, 9, 10, 10, 11]\n"
     ]
    }
   ],
   "source": [
    "def heapsort(A):\n",
    "   build_max_heap(A)\n",
    "   for i in range(len(A) - 1, 0, -1):\n",
    "       A[0], A[i] = A[i], A[0]\n",
    "       max_heapify(A, index=0, size=i)\n",
    "def parent(i):\n",
    "   return (i - 1)//2\n",
    "def left(i):\n",
    "   return 2*i + 1\n",
    "def right(i):\n",
    "   return 2*i + 2\n",
    "def build_max_heap(A):\n",
    "   length = len(A)\n",
    "   start = parent(length - 1)\n",
    "   while start >= 0:\n",
    "       max_heapify(A, index=start, size=length)\n",
    "       start = start - 1\n",
    "def max_heapify(A, index, size):\n",
    "   left_child = left(index)\n",
    "   right_child = right(index)\n",
    "   if (left_child < size and A[left_child] > A[index]):\n",
    "       largest = left_child\n",
    "   else:\n",
    "       largest = index\n",
    "   if (right_child < size and A[right_child] > A[largest]):\n",
    "       largest = right_child;\n",
    "   if (largest != index):\n",
    "       A[largest], A[index] = A[index], A[largest]\n",
    "       max_heapify(A, largest, size)\n",
    "A = input('Enter the list of numbers: ').split()\n",
    "A = [int(x) for x in A]\n",
    "heapsort(A)\n",
    "print('Sorted list: ', end='')\n",
    "print(A)"
   ]
  },
  {
   "cell_type": "code",
   "execution_count": 2,
   "metadata": {},
   "outputs": [
    {
     "data": {
      "text/plain": [
       "[-8, 9, -1, 10, 10, 8, 11]"
      ]
     },
     "execution_count": 2,
     "metadata": {},
     "output_type": "execute_result"
    }
   ],
   "source": [
    "import heapq\n",
    "l=[-1,10,8,9,10,-8,11]\n",
    "heapq.heapify(l)\n",
    "l "
   ]
  },
  {
   "cell_type": "code",
   "execution_count": 3,
   "metadata": {},
   "outputs": [
    {
     "data": {
      "text/plain": [
       "[-1, 2, 5, 9, 10, 8, 11, 10]"
      ]
     },
     "execution_count": 3,
     "metadata": {},
     "output_type": "execute_result"
    }
   ],
   "source": [
    "heapq.heappush(l,2)\n",
    "heapq.heapreplace(l,5)\n",
    "l "
   ]
  },
  {
   "cell_type": "code",
   "execution_count": 12,
   "metadata": {},
   "outputs": [
    {
     "data": {
      "text/plain": [
       "[25, 13, 22, 3, 11, 9, 17, 1, 2]"
      ]
     },
     "execution_count": 12,
     "metadata": {},
     "output_type": "execute_result"
    }
   ],
   "source": [
    "l1=[11,2,9,13,57,25,17,1,90,3]\n",
    "heapq._heapify_max(l1)\n",
    "heapq._heappop_max(l1)\n",
    "heapq._heapreplace_max(l1,22)\n",
    "l1 "
   ]
  },
  {
   "cell_type": "markdown",
   "metadata": {},
   "source": [
    "### max heap does not have push method. it is limited. \n",
    "### we can use min heap to solve a max heap problem by changing the values of the original data into their respective neagative values and do min heap and at last change the sign to positive. [A VERY GOOD TECHNIQUE]\n",
    "used in the problem: https://www.interviewbit.com/problems/magician-and-chocolates/"
   ]
  },
  {
   "cell_type": "code",
   "execution_count": null,
   "metadata": {},
   "outputs": [],
   "source": []
  },
  {
   "cell_type": "code",
   "execution_count": 4,
   "metadata": {},
   "outputs": [
    {
     "name": "stdout",
     "output_type": "stream",
     "text": [
      "42 30 15 35 42.195\n",
      "[30.0, 35.0, 42.0]\n"
     ]
    }
   ],
   "source": [
    "a=list(map(float,input().split()))\n",
    "import heapq \n",
    "l=[]\n",
    "heapq.heapify(l)\n",
    "for i in range(len(a)):\n",
    "    t=a[i] \n",
    "    if t!=42.195:\n",
    "        heapq.heappush(l,t)\n",
    "    if len(l)>3:\n",
    "        heapq.heappop(l) \n",
    "print(l) "
   ]
  },
  {
   "cell_type": "code",
   "execution_count": 19,
   "metadata": {},
   "outputs": [
    {
     "data": {
      "text/plain": [
       "[-2, -5]"
      ]
     },
     "execution_count": 19,
     "metadata": {},
     "output_type": "execute_result"
    }
   ],
   "source": [
    "[i*-1 for i in [2,5]]"
   ]
  },
  {
   "cell_type": "code",
   "execution_count": null,
   "metadata": {},
   "outputs": [],
   "source": []
  }
 ],
 "metadata": {
  "kernelspec": {
   "display_name": "Python 3",
   "language": "python",
   "name": "python3"
  },
  "language_info": {
   "codemirror_mode": {
    "name": "ipython",
    "version": 3
   },
   "file_extension": ".py",
   "mimetype": "text/x-python",
   "name": "python",
   "nbconvert_exporter": "python",
   "pygments_lexer": "ipython3",
   "version": "3.7.6"
  },
  "varInspector": {
   "cols": {
    "lenName": 16,
    "lenType": 16,
    "lenVar": 40
   },
   "kernels_config": {
    "python": {
     "delete_cmd_postfix": "",
     "delete_cmd_prefix": "del ",
     "library": "var_list.py",
     "varRefreshCmd": "print(var_dic_list())"
    },
    "r": {
     "delete_cmd_postfix": ") ",
     "delete_cmd_prefix": "rm(",
     "library": "var_list.r",
     "varRefreshCmd": "cat(var_dic_list()) "
    }
   },
   "types_to_exclude": [
    "module",
    "function",
    "builtin_function_or_method",
    "instance",
    "_Feature"
   ],
   "window_display": false
  }
 },
 "nbformat": 4,
 "nbformat_minor": 4
}
