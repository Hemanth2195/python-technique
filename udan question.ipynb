{
 "cells": [
  {
   "cell_type": "code",
   "execution_count": 24,
   "metadata": {
    "scrolled": true
   },
   "outputs": [
    {
     "name": "stdout",
     "output_type": "stream",
     "text": [
      "6\n",
      "add_screan screan1 5 10 2 4 5 9\n",
      "add_screan screan2 10 20 5 7 11 13 17\n",
      "reserve_seat screan1 5 1 3 8\n",
      "reserve_seat screan2 10 7 6 9 15\n",
      "get_unreserved_seats screan1 5\n",
      "6 7 10 None\n",
      "sub_countiguous_seats screan2 2 10 18\n",
      "17\n",
      "18\n",
      "19\n",
      "None\n"
     ]
    }
   ],
   "source": [
    "n=int(input())\n",
    "\n",
    "screans={}\n",
    "\n",
    "\n",
    "def add_screan(name,row,seat,asile):\n",
    "    t=np.zeros((row,seat))\n",
    "    for i in asile:\n",
    "        t[:,i-1]=1\n",
    "    screans[name]=t \n",
    "def reserve_seat(name,row_number,seat):\n",
    "    if name not in screans:\n",
    "        return False\n",
    "    if row_number>len(screans[name]) or max(seat)>len(screans[name][0]):\n",
    "        return False\n",
    "    t=False\n",
    "    for i in seat: \n",
    "        if screans[name][row_number-1,i-1]==0:\n",
    "            screans[name][row_number-1,i-1]=1\n",
    "            t=True\n",
    "    if t==False:\n",
    "        return False\n",
    "    \n",
    "def get_unreserved_seats(name,row_number):  #need to write one case:when all seats are gone.\n",
    "    if name not in screans:\n",
    "        return False\n",
    "    if row_number>len(screans[name]):\n",
    "        return False\n",
    "    s=1\n",
    "    for i in screans[name][row_number-1]:\n",
    "        if i==0:\n",
    "            print(s,end=' ')\n",
    "        s=s+1\n",
    "                \n",
    "def sub_countiguous_seats(name,seat,row_number,choice):\n",
    "    t1=screans[name][row_number-1]\n",
    "    s=max(0,choice-seat)\n",
    "    e=min(len(t1),choice+seat-1)\n",
    "    c=0\n",
    "    t=False\n",
    "    for i in range(s,e):\n",
    "        if t1[i]==0 and t==False:\n",
    "            c=c+1\n",
    "            t=True\n",
    "        elif t1[i]==0 and t==True:\n",
    "            c=c+1\n",
    "        elif t1[i]==1 and t==True:\n",
    "            c=0\n",
    "            t=False\n",
    "        if c==seat: \n",
    "             for x in range(i-seat,i+1):\n",
    "                    print(x+1)\n",
    "    return \n",
    "\n",
    "for i in range(n):\n",
    "    l=list(map(str,input().split()))\n",
    "    k=l[4:]\n",
    "    k=list(map(int,k))\n",
    "    if l[0]=='add_screan':\n",
    "        add_screan(l[1],int(l[2]),int(l[3]),k)\n",
    "    elif l[0]=='reserve_seat':\n",
    "        k=list(map(int,l[3:]))\n",
    "        reserve_seat(l[1],int(l[2]),k)\n",
    "    elif l[0]=='get_unreserved_seats':\n",
    "        print(get_unreserved_seats(l[1],int(l[2])))\n",
    "    elif l[0]=='sub_countiguous_seats':\n",
    "        print(sub_countiguous_seats(l[1],int(l[2]),int(l[3]),int(l[4])))\n",
    "        \n",
    "\n"
   ]
  },
  {
   "cell_type": "code",
   "execution_count": null,
   "metadata": {},
   "outputs": [],
   "source": [
    "n=int(input())\n",
    "screen=[]\n",
    "row=[]\n",
    "seat=[]\n",
    "aseats=[]\n",
    "\n",
    "def add_screen(name,rows,seats,asail):\n",
    "    if name not in screan:\n",
    "        screen.append(name)\n",
    "        row.append(rows)\n",
    "        seats.append(seats)\n",
    "        aseats.append([asail])\n",
    "    else:\n",
    "        print(f'{name} is already added')\n",
    "def reserve_seat(name,row_number,seat_number):\n",
    "    t=False\n",
    "    if name in screen:\n",
    "        i=screen.index(name)\n",
    "        if row_number<=row[i] and seat_number<=seat[i]:\n",
    "            if seat_number not in aseats[i]:\n",
    "                aseats[i].append(seat_number)\n",
    "                print('your seat is successfully reserved')\n",
    "                t=True\n",
    "    if t==False:\n",
    "        print('failed to reserve seat')\n",
    "def get_unreserved_seat(name,row_number):\n",
    "    t=False\n",
    "    l=[]\n",
    "    if name in screen:\n",
    "        x=screen.index(name)\n",
    "        if row_number<=row[x]:\n",
    "            for i in range(1,seat[x]+1):\n",
    "                if i not in aseats[x]:\n",
    "                    l.append(i)\n",
    "            t=True\n",
    "            return l \n",
    "    if t==False:\n",
    "        print('failure') \n",
    "def sub_countiguous_seats(name,no_of_seats,row_number,choice):\n",
    "    t1=True\n",
    "    t2=True\n",
    "    j=[]\n",
    "    if name in screen:\n",
    "        x=screen.index(name)\n",
    "        k=get_unreserved_seat(name,row_number)\n",
    "        for i in range(choice+1-no_of_seats,choice+1):\n",
    "            if i in k: \n",
    "                j.append(i)\n",
    "            else:\n",
    "                t1=False\n",
    "                break \n",
    "        if t1==False:\n",
    "            j=[]\n",
    "            for i in range(choice,choice+no_of_seats):\n",
    "                if i in k:\n",
    "                    j.append(i)\n",
    "                else:\n",
    "                    t2=False\n",
    "                    break \n",
    "        if t1==True or t2==True:\n",
    "            return j \n",
    "        else:\n",
    "            return 'fail'\n",
    "\n",
    "for i in range(n):\n",
    "    c=list(input().split())\n",
    "    if c[0]=='add_screen':\n",
    "        add_screen(c[1],c[2],c[3],c[4:])\n",
    "    elif c[0]=='reserve_seat':\n",
    "        reserve_seat([c[1],c[2],c[3]])\n",
    "    elif c[0]=='get_unreserved_seat':\n",
    "        get_unreserved_seat(c[1],c[2]) \n",
    "    elif c[0]=='sub_countiguous_seats':\n",
    "        sub_countiguous_seats(c[1],c[2],c[3],[4])"
   ]
  },
  {
   "cell_type": "code",
   "execution_count": null,
   "metadata": {},
   "outputs": [],
   "source": []
  },
  {
   "cell_type": "code",
   "execution_count": null,
   "metadata": {},
   "outputs": [],
   "source": []
  },
  {
   "cell_type": "code",
   "execution_count": 20,
   "metadata": {},
   "outputs": [
    {
     "name": "stdout",
     "output_type": "stream",
     "text": [
      "3\n"
     ]
    }
   ],
   "source": [
    "n=int(input())\n",
    "\n",
    "l1={}\n",
    "def add_screan(name,row,seat,aisle):\n",
    "    if name not in l1:\n",
    "        l1[name]={n_row:{row},seats:{seat},asile:{},rows:{}}\n",
    "    else:\n",
    "        return 'screan is already present'\n",
    "\n",
    "def reserve_seat(name,row_number,seat):\n",
    "    if name in l1:\n",
    "        n_r=l1[name][n_row]\n",
    "        if n_r>row_number:\n",
    "            return 'row number is not available'\n",
    "        n_s=l1[name][seat]\n",
    "        if n_s>seat: \n",
    "            return 'seat is out of range'\n",
    "        if seat in l1[name][asile]:\n",
    "            return 'that is an asile seat'\n",
    "        if row_number not in l1[name][rows]:\n",
    "            l1[name][rows][str(row_number)]=[0]*l1[name][seats]\n",
    "            l1[name][rows][str(row_number)][seat-1]=1\n",
    "            return \n",
    "        if l1[name][rows][str(row_number)][seat-1]==0:\n",
    "            l1[name][rows][str(row_number)][seat-1]=1\n",
    "        else:\n",
    "            return 'that seat is already reserved'\n",
    "    else:\n",
    "        return 'screan is not available'\n",
    "\n",
    "def get_unreserved_seat(name,row_number):\n",
    "    if name in l1:\n",
    "        if row_number>l1[name][n_row]:\n",
    "            return 'row is out of range'\n",
    "        n_s=l1[name][seats]\n",
    "        asile=l1[name][asile]\n",
    "        if str(row_number) not in l1[name][rows]:\n",
    "            n_s=l1[name][seats]\n",
    "            asile=l1[name][asile]\n",
    "            for i in range(1,n_s+1):\n",
    "                if i not in asile:\n",
    "                    print(i,end=' ')\n",
    "        else:\n",
    "            l=l1[name][rows][str(row_number)]\n",
    "            for i in range(1,n_s+1):\n",
    "                if i not in asile and l[i-1]==0:\n",
    "                    print(i,end=' ')\n",
    "    else:\n",
    "        return 'that screan is not available'\n",
    "\n",
    "def sub_countiguous_seats(name,no_of_seats,row_number,choice):\n",
    "    if name in l1:\n",
    "        if l1[name][n_row]<row_number:\n",
    "            return 'row is out of range'\n",
    "        if str(row_number) in l1[name][rows]:\n",
    "            pass\n",
    "        else:\n",
    "            for i in l1[name][asile]:\n",
    "                l1[name][n_row][str(row_number)][i-1]=1\n",
    "                l=l1[name][n_row][str(row_number)]\n",
    "                s=max(0,chioce-no_of_seats)\n",
    "                e=min(l1[name][seats],choice+no_of_seats-1)\n",
    "                c=0\n",
    "                t=False\n",
    "                k=None\n",
    "                for i in range(s,e):\n",
    "                    if l[i]==0 and t==False:\n",
    "                        c=c+1\n",
    "                        t=True\n",
    "                    else:\n",
    "                        t=False\n",
    "                        c=0\n",
    "                    if c==no_of_seats:\n",
    "                        for x in range(i-no_of_seats,i):\n",
    "                            k=1\n",
    "                            print(x+1,end=' ')\n",
    "                        break\n",
    "                if k is None:\n",
    "                    return 'not possible'     \n",
    "    else:\n",
    "        return 'that screan is not available'\n"
   ]
  },
  {
   "cell_type": "code",
   "execution_count": 24,
   "metadata": {},
   "outputs": [],
   "source": [
    "l={}\n",
    "import numpy as np\n",
    "l['screan1']={'row':10,'n_seats':20,'asile':[2,4,5],'rows':{'row1':[0]*20}}"
   ]
  },
  {
   "cell_type": "code",
   "execution_count": 27,
   "metadata": {},
   "outputs": [
    {
     "data": {
      "text/plain": [
       "{'screan1': {'row': 10,\n",
       "  'n_seats': 20,\n",
       "  'asile': [2, 4, 5],\n",
       "  'rows': {'row1': [0,\n",
       "    0,\n",
       "    0,\n",
       "    1,\n",
       "    0,\n",
       "    0,\n",
       "    0,\n",
       "    0,\n",
       "    0,\n",
       "    0,\n",
       "    0,\n",
       "    0,\n",
       "    0,\n",
       "    0,\n",
       "    0,\n",
       "    0,\n",
       "    0,\n",
       "    0,\n",
       "    0,\n",
       "    0]}}}"
      ]
     },
     "execution_count": 27,
     "metadata": {},
     "output_type": "execute_result"
    }
   ],
   "source": [
    "l['screan1']['rows']['row1'][3]=1\n",
    "l "
   ]
  },
  {
   "cell_type": "code",
   "execution_count": 29,
   "metadata": {},
   "outputs": [
    {
     "data": {
      "text/plain": [
       "True"
      ]
     },
     "execution_count": 29,
     "metadata": {},
     "output_type": "execute_result"
    }
   ],
   "source": [
    "'screan1' in l "
   ]
  },
  {
   "cell_type": "code",
   "execution_count": 34,
   "metadata": {},
   "outputs": [
    {
     "data": {
      "text/plain": [
       "[1, 2, 3]"
      ]
     },
     "execution_count": 34,
     "metadata": {},
     "output_type": "execute_result"
    }
   ],
   "source": [
    "l={'screan1':{'s1':[1,2,3],'s2':{},'s3':{}}}\n",
    "l['screan1']['s1']"
   ]
  },
  {
   "cell_type": "code",
   "execution_count": 42,
   "metadata": {},
   "outputs": [],
   "source": [
    "rows=5\n",
    "seats=10\n",
    "asile=[2,4,5,9]\n",
    "a=np.zeros((rows,seats))\n",
    "for i in asile:\n",
    "    a[:,i-1]=1 \n",
    "a=a.tolist()"
   ]
  },
  {
   "cell_type": "code",
   "execution_count": 48,
   "metadata": {},
   "outputs": [
    {
     "data": {
      "text/plain": [
       "1.0"
      ]
     },
     "execution_count": 48,
     "metadata": {},
     "output_type": "execute_result"
    }
   ],
   "source": [
    "a[0][9-1]"
   ]
  },
  {
   "cell_type": "code",
   "execution_count": 30,
   "metadata": {},
   "outputs": [
    {
     "name": "stdout",
     "output_type": "stream",
     "text": [
      "Hello World Lol "
     ]
    }
   ],
   "source": [
    "l='hello world lol'\n",
    "l=l.split()\n",
    "for i in l:\n",
    "    print(i.capitalize(),end=' ')\n"
   ]
  },
  {
   "cell_type": "code",
   "execution_count": null,
   "metadata": {},
   "outputs": [],
   "source": []
  }
 ],
 "metadata": {
  "kernelspec": {
   "display_name": "Python 3",
   "language": "python",
   "name": "python3"
  },
  "language_info": {
   "codemirror_mode": {
    "name": "ipython",
    "version": 3
   },
   "file_extension": ".py",
   "mimetype": "text/x-python",
   "name": "python",
   "nbconvert_exporter": "python",
   "pygments_lexer": "ipython3",
   "version": "3.7.6"
  },
  "varInspector": {
   "cols": {
    "lenName": 16,
    "lenType": 16,
    "lenVar": 40
   },
   "kernels_config": {
    "python": {
     "delete_cmd_postfix": "",
     "delete_cmd_prefix": "del ",
     "library": "var_list.py",
     "varRefreshCmd": "print(var_dic_list())"
    },
    "r": {
     "delete_cmd_postfix": ") ",
     "delete_cmd_prefix": "rm(",
     "library": "var_list.r",
     "varRefreshCmd": "cat(var_dic_list()) "
    }
   },
   "types_to_exclude": [
    "module",
    "function",
    "builtin_function_or_method",
    "instance",
    "_Feature"
   ],
   "window_display": false
  }
 },
 "nbformat": 4,
 "nbformat_minor": 4
}
