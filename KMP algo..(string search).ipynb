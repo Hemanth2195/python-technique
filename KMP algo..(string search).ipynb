{
 "cells": [
  {
   "cell_type": "markdown",
   "metadata": {},
   "source": [
    "consider s='given-string', p='pattern' "
   ]
  },
  {
   "cell_type": "markdown",
   "metadata": {},
   "source": [
    "KMP takes advantage of sucessfull comparisions we make between s and p during each iteration"
   ]
  },
  {
   "cell_type": "markdown",
   "metadata": {},
   "source": [
    "understanding logic for this is simple but writing code and it's intiution is hard to understand, so remember the code and the steps."
   ]
  },
  {
   "cell_type": "code",
   "execution_count": 2,
   "metadata": {},
   "outputs": [],
   "source": [
    "s='adsgwadsxdsgwadsgz'\n",
    "p='dsgwadsgz'"
   ]
  },
  {
   "cell_type": "markdown",
   "metadata": {},
   "source": [
    "1.we create an array that used latter to compare LPS(longest prefix suffix) strings in the pattern"
   ]
  },
  {
   "cell_type": "code",
   "execution_count": 6,
   "metadata": {},
   "outputs": [
    {
     "name": "stdout",
     "output_type": "stream",
     "text": [
      " d  s  g  w  a  d  s  g  z "
     ]
    },
    {
     "data": {
      "text/plain": [
       "[0, 0, 0, 0, 0, 1, 2, 3, 0]"
      ]
     },
     "execution_count": 6,
     "metadata": {},
     "output_type": "execute_result"
    }
   ],
   "source": [
    "lps=[0]*len(p)\n",
    "i,j=0,1\n",
    "while j!=len(p): \n",
    "    if p[i]!=p[j]:\n",
    "        if i==0:\n",
    "            j=j+1\n",
    "        else:\n",
    "            i=lps[i-1]\n",
    "    else:\n",
    "        lps[j]=i+1\n",
    "        i=i+1\n",
    "        j=j+1\n",
    "for i in p:\n",
    "    print('',end=' ')\n",
    "    print(i,end=' ')\n",
    "lps"
   ]
  },
  {
   "cell_type": "markdown",
   "metadata": {},
   "source": [
    "see 'dsg' is the longest prefix that is also suffix"
   ]
  },
  {
   "cell_type": "markdown",
   "metadata": {},
   "source": [
    "time and space complexity: O(n) and O(n)"
   ]
  },
  {
   "cell_type": "markdown",
   "metadata": {},
   "source": [
    "2.finding the pattern from the text"
   ]
  },
  {
   "cell_type": "code",
   "execution_count": 15,
   "metadata": {},
   "outputs": [
    {
     "name": "stdout",
     "output_type": "stream",
     "text": [
      "i , j\n",
      "0 d 0 a\n",
      "0 d 1 d\n",
      "1 s 2 s\n",
      "2 g 3 g\n",
      "3 w 4 w\n",
      "4 a 5 a\n",
      "5 d 6 d\n",
      "6 s 7 s\n",
      "7 g 8 x\n",
      "2 g 9 d\n",
      "0 d 9 d\n",
      "1 s 10 s\n",
      "2 g 11 g\n",
      "3 w 12 w\n",
      "4 a 13 a\n",
      "5 d 14 d\n",
      "6 s 15 s\n",
      "7 g 16 g\n",
      "8 z 17 z\n",
      "pattern found at:9th index\n"
     ]
    }
   ],
   "source": [
    "i=0 #current index of pattern\n",
    "j=0 #current index of string\n",
    "k=0 \n",
    "print('i , j') \n",
    "while j<len(s):\n",
    "    print(i,p[i],j,s[j])\n",
    "    if k==20:\n",
    "        break \n",
    "    k=k+1\n",
    "    if p[i]==s[j]:\n",
    "        if i==len(p)-1:\n",
    "            print(f'pattern found at:{j-len(p)+1}th index')\n",
    "            break \n",
    "        i=i+1\n",
    "        j=j+1\n",
    "    else: #p[i]!=s[j]\n",
    "        if i==j==0:\n",
    "            j=j+1\n",
    "        else:\n",
    "            i=lps[i-1]\n",
    "            if p[i]!=s[j]:\n",
    "                j=j+1"
   ]
  },
  {
   "cell_type": "markdown",
   "metadata": {},
   "source": [
    "watch: https://youtu.be/GTJr8OvyEVQ (this is enough and simple), \n",
    "watch: https://youtu.be/BXCEFAzhxGY (this is more intuative and complex)"
   ]
  },
  {
   "cell_type": "code",
   "execution_count": 8,
   "metadata": {},
   "outputs": [
    {
     "data": {
      "text/plain": [
       "['1']"
      ]
     },
     "execution_count": 8,
     "metadata": {},
     "output_type": "execute_result"
    }
   ],
   "source": [
    "a='1'\n",
    "list(a.split('.'))"
   ]
  },
  {
   "cell_type": "code",
   "execution_count": null,
   "metadata": {},
   "outputs": [],
   "source": []
  }
 ],
 "metadata": {
  "kernelspec": {
   "display_name": "Python 3",
   "language": "python",
   "name": "python3"
  },
  "language_info": {
   "codemirror_mode": {
    "name": "ipython",
    "version": 3
   },
   "file_extension": ".py",
   "mimetype": "text/x-python",
   "name": "python",
   "nbconvert_exporter": "python",
   "pygments_lexer": "ipython3",
   "version": "3.7.6"
  },
  "varInspector": {
   "cols": {
    "lenName": 16,
    "lenType": 16,
    "lenVar": 40
   },
   "kernels_config": {
    "python": {
     "delete_cmd_postfix": "",
     "delete_cmd_prefix": "del ",
     "library": "var_list.py",
     "varRefreshCmd": "print(var_dic_list())"
    },
    "r": {
     "delete_cmd_postfix": ") ",
     "delete_cmd_prefix": "rm(",
     "library": "var_list.r",
     "varRefreshCmd": "cat(var_dic_list()) "
    }
   },
   "types_to_exclude": [
    "module",
    "function",
    "builtin_function_or_method",
    "instance",
    "_Feature"
   ],
   "window_display": false
  }
 },
 "nbformat": 4,
 "nbformat_minor": 4
}
