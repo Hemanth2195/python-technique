{
 "cells": [
  {
   "cell_type": "markdown",
   "metadata": {},
   "source": [
    "very good concept. if are in a loop we can able to find we are in loop or not. consider tortoise and hire are running a race in a circular track, at some point of time they will meet at some common point. we use this logic"
   ]
  },
  {
   "cell_type": "markdown",
   "metadata": {},
   "source": [
    "explination:https://youtu.be/-YiQZi3mLq0"
   ]
  },
  {
   "cell_type": "markdown",
   "metadata": {},
   "source": [
    "question: https://www.interviewbit.com/problems/list-cycle/"
   ]
  },
  {
   "cell_type": "code",
   "execution_count": 1,
   "metadata": {},
   "outputs": [],
   "source": [
    "class Solution:\n",
    "    # @param A : head node of linked list\n",
    "    # @return the first node in the cycle in the linked list\n",
    "    def detectCycle(self, A):\n",
    "        '''c=A\n",
    "        while c:\n",
    "            c1=c.next\n",
    "            while c1:\n",
    "                if c1==c:\n",
    "                    return c\n",
    "                c1=c1.next\n",
    "            c=c.next\n",
    "        return None'''\n",
    "        \n",
    "        '''seen=[]\n",
    "        c=A\n",
    "        while c:\n",
    "            if c in seen:\n",
    "                return c\n",
    "            else:\n",
    "                seen.append(c)\n",
    "            c=c.next\n",
    "        return None'''\n",
    "        \n",
    "        #using hare and tortoise concept\n",
    "        t=h=A\n",
    "        while t and h and h.next:\n",
    "            t=t.next\n",
    "            h=h.next.next\n",
    "            if t==h: #means loop exits\n",
    "                break\n",
    "        if t!=h: #loop does n't exist\n",
    "            return None\n",
    "        #we keep the h at the point of intersection only(within the loop)\n",
    "        #t will start form the begining\n",
    "        t=A\n",
    "        while t!=h:\n",
    "            t=t.next\n",
    "            h=h.next\n",
    "        return t "
   ]
  },
  {
   "cell_type": "markdown",
   "metadata": {},
   "source": [
    "solution"
   ]
  },
  {
   "cell_type": "markdown",
   "metadata": {},
   "source": [
    "point to understand: after finding the intersection point, the hare is starting from the intersection point with single steps each time and the tortoise is starting from the head of list. they both meet at the start of the loop. how?\n",
    "ANS: because, watch the video carefully. he derived the eqation which states: the distace from the head to the start of the loop is same as the distace from the intersection point to the start of the loop."
   ]
  },
  {
   "cell_type": "markdown",
   "metadata": {},
   "source": [
    "see the doccument i added here:C:\\Users\\hemanth kumar\\Desktop\\python\\python imp notes.\n",
    "it has the explination of the concept."
   ]
  },
  {
   "cell_type": "code",
   "execution_count": null,
   "metadata": {},
   "outputs": [],
   "source": []
  }
 ],
 "metadata": {
  "kernelspec": {
   "display_name": "Python 3",
   "language": "python",
   "name": "python3"
  },
  "language_info": {
   "codemirror_mode": {
    "name": "ipython",
    "version": 3
   },
   "file_extension": ".py",
   "mimetype": "text/x-python",
   "name": "python",
   "nbconvert_exporter": "python",
   "pygments_lexer": "ipython3",
   "version": "3.7.6"
  },
  "varInspector": {
   "cols": {
    "lenName": 16,
    "lenType": 16,
    "lenVar": 40
   },
   "kernels_config": {
    "python": {
     "delete_cmd_postfix": "",
     "delete_cmd_prefix": "del ",
     "library": "var_list.py",
     "varRefreshCmd": "print(var_dic_list())"
    },
    "r": {
     "delete_cmd_postfix": ") ",
     "delete_cmd_prefix": "rm(",
     "library": "var_list.r",
     "varRefreshCmd": "cat(var_dic_list()) "
    }
   },
   "types_to_exclude": [
    "module",
    "function",
    "builtin_function_or_method",
    "instance",
    "_Feature"
   ],
   "window_display": false
  }
 },
 "nbformat": 4,
 "nbformat_minor": 4
}
