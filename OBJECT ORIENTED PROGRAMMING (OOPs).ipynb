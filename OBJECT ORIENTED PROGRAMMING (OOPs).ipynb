{
 "cells": [
  {
   "cell_type": "markdown",
   "metadata": {},
   "source": [
    "adopted from : https://youtu.be/qiSCMNBIP2g"
   ]
  },
  {
   "cell_type": "markdown",
   "metadata": {},
   "source": [
    "objects have attributes->variables which we pass   and behaviour-> what they do (function/methods)"
   ]
  },
  {
   "cell_type": "markdown",
   "metadata": {},
   "source": [
    "functions in oops are called methods"
   ]
  },
  {
   "cell_type": "markdown",
   "metadata": {},
   "source": [
    "calss is a blueprint, and objects are the instances of the calss."
   ]
  },
  {
   "cell_type": "code",
   "execution_count": 1,
   "metadata": {},
   "outputs": [],
   "source": [
    "class car:\n",
    "    def __init__(self): #this is constructor of class, it is called when creating the object.\n",
    "        self.wheels=4       #here we already created it's default values for the variables\n",
    "        self.fuel='diesel'"
   ]
  },
  {
   "cell_type": "code",
   "execution_count": 4,
   "metadata": {},
   "outputs": [
    {
     "data": {
      "text/plain": [
       "__main__.car"
      ]
     },
     "execution_count": 4,
     "metadata": {},
     "output_type": "execute_result"
    }
   ],
   "source": [
    "a='hemanth'\n",
    "c1=car()\n",
    "type(c1)"
   ]
  },
  {
   "cell_type": "markdown",
   "metadata": {},
   "source": [
    "we can pass the attributes of a object while creating the object, for that the calss has to be "
   ]
  },
  {
   "cell_type": "code",
   "execution_count": 14,
   "metadata": {},
   "outputs": [
    {
     "name": "stdout",
     "output_type": "stream",
     "text": [
      "this car has 5 wheels, for petrol it gives 35 k.m/ltr\n"
     ]
    }
   ],
   "source": [
    "class car:\n",
    "    def __init__(self,wheels,fuel,milage): \n",
    "        self.wheels=wheels\n",
    "        self.fuel=fuel\n",
    "        self.milage=milage\n",
    "    def specifications(self):\n",
    "        print(f'this car has {self.wheels} wheels, for {self.fuel} it gives {self.milage} k.m/ltr') \n",
    "c2=car(5,'petrol',35)  \n",
    "c2.fuel\n",
    "c2.specifications()"
   ]
  },
  {
   "cell_type": "code",
   "execution_count": 17,
   "metadata": {},
   "outputs": [
    {
     "name": "stdout",
     "output_type": "stream",
     "text": [
      "1652580084360\n",
      "1652580082440\n"
     ]
    }
   ],
   "source": [
    "class computer:\n",
    "    pass\n",
    "c1=computer()\n",
    "c2=computer()\n",
    "print(id(c1)) #printing the address of the object\n",
    "print(id(c2))"
   ]
  },
  {
   "cell_type": "markdown",
   "metadata": {},
   "source": [
    "the amount of memory the object will consume will depend upon the no.of variables we have, which we will pass by the constructor. therefore constructor decides how much memory to be allocated to the object when it is created."
   ]
  },
  {
   "cell_type": "markdown",
   "metadata": {},
   "source": [
    "### comparing two objects"
   ]
  },
  {
   "cell_type": "code",
   "execution_count": 21,
   "metadata": {},
   "outputs": [
    {
     "name": "stdout",
     "output_type": "stream",
     "text": [
      "different age\n"
     ]
    }
   ],
   "source": [
    "class person:\n",
    "    def __init__(self,age):\n",
    "        self.age=age\n",
    "    def compare(self,other):\n",
    "        if self.age==other.age:\n",
    "            return True\n",
    "        else:\n",
    "            return False\n",
    "p1=person(30)\n",
    "p2=person(25)\n",
    "if p1.compare(p2):\n",
    "    print('same age')\n",
    "else:\n",
    "    print('different age')\n",
    "\n",
    "#here p1--> takes self, and the p2--> takes the other in the comapre method."
   ]
  },
  {
   "cell_type": "markdown",
   "metadata": {},
   "source": [
    "### variabels"
   ]
  },
  {
   "cell_type": "markdown",
   "metadata": {},
   "source": [
    "### instance variables and class variabels"
   ]
  },
  {
   "cell_type": "markdown",
   "metadata": {},
   "source": [
    "instance variables belong inside the constructor, whose values can be modified for the current object,\n",
    "\n",
    "class variables belong to the class, so they are passed to the object when it is created. when we cahnge the class variable it also changes for all objects which are created from the calss."
   ]
  },
  {
   "cell_type": "code",
   "execution_count": 23,
   "metadata": {},
   "outputs": [
    {
     "name": "stdout",
     "output_type": "stream",
     "text": [
      "4\n",
      "8\n"
     ]
    }
   ],
   "source": [
    "class car:\n",
    "    wheels=4\n",
    "    def __init__(self,fuel,milage): \n",
    "        self.fuel=fuel\n",
    "        self.milage=milage\n",
    "    def specifications(self):\n",
    "        print(f'this car runs with {self.fuel} it gives {self.milage} k.m/ltr') \n",
    "        \n",
    "c1=car('diesel',35)\n",
    "print(c1.wheels)\n",
    "car.wheels=8\n",
    "print(c1.wheels)"
   ]
  },
  {
   "cell_type": "markdown",
   "metadata": {},
   "source": [
    "### methods"
   ]
  },
  {
   "cell_type": "code",
   "execution_count": 24,
   "metadata": {},
   "outputs": [
    {
     "name": "stdout",
     "output_type": "stream",
     "text": [
      "12\n",
      "45.333333333333336\n",
      "49.666666666666664\n",
      "navodaya\n",
      "this is what happens 1\n"
     ]
    }
   ],
   "source": [
    "#types of methods\n",
    "#instance,class,static methods\n",
    "#instance method:uses the instance variables,means it has self in it\n",
    "#class method:uses class variables\n",
    "#static method:it is not concerned with class variable nor instance variable,so\n",
    "#don't have any thing in the parenthesis.\n",
    "\n",
    "class student:\n",
    "    school='navodaya'\n",
    "    def __init__(self,m1,m2,m3):  #instance variable\n",
    "        self.m1=m1\n",
    "        self.m2=m2\n",
    "        self.m3=m3\n",
    "\n",
    "    def avg(self):     #instance variable(acessor method)\n",
    "        return (self.m1+self.m2+self.m3)/3\n",
    "        \n",
    "    def set_m1(self,value):  #(mutator method)\n",
    "        self.m1=value     \n",
    "    def m2(self,value): #same\n",
    "        self.m2=vlaue\n",
    "\n",
    "    @classmethod  #this is decorator:need to be written before writting a class method\n",
    "    def info(cls):\n",
    "        return cls.school\n",
    "\n",
    "    @staticmethod #decorator\n",
    "    def ABC(a):    #static method so don't instance or class variable,can take \n",
    "        print('this is what happens',a) #static variable.here it is 'a'.\n",
    "\n",
    "s1=student(12,46,78)\n",
    "print(s1.m1)\n",
    "print(s1.avg())\n",
    "s1.set_m1(25)\n",
    "print(s1.avg())\n",
    "print(s1.info())\n",
    "s1.ABC(1)"
   ]
  },
  {
   "cell_type": "markdown",
   "metadata": {},
   "source": [
    "### class inside a class"
   ]
  },
  {
   "cell_type": "code",
   "execution_count": 15,
   "metadata": {},
   "outputs": [
    {
     "name": "stdout",
     "output_type": "stream",
     "text": [
      "hemanth 8 23\n",
      "predator i5 8th\n"
     ]
    }
   ],
   "source": [
    "class student:\n",
    "    def __init__(self,name,c,roll): \n",
    "        self.name=name\n",
    "        self.c=c\n",
    "        self.roll=roll\n",
    "        self.lap=self.laptop()  #the object of the inner class is created here\n",
    "    def show(self):\n",
    "        print(self.name,self.c,self.roll)\n",
    "    \n",
    "    class laptop:\n",
    "        def __init__(self):\n",
    "            self.comp='predator'\n",
    "            self.core='i5'\n",
    "            self.gen='8th' \n",
    "        def show(self):\n",
    "            print(self.comp,self.core,self.gen)\n",
    "s1=student('hemanth',8,23)\n",
    "l1=student.laptop() #to create the object of the inner class we have to create it from the main class.\n",
    "s1.show()\n",
    "l1.show()\n"
   ]
  },
  {
   "cell_type": "markdown",
   "metadata": {},
   "source": [
    "the variables of the inner class(comp,core,gen) are inside the main calss are defined earlier only, don't know if we can define them from out side."
   ]
  },
  {
   "cell_type": "markdown",
   "metadata": {},
   "source": [
    "we can change these variable values in this way:"
   ]
  },
  {
   "cell_type": "code",
   "execution_count": 16,
   "metadata": {},
   "outputs": [
    {
     "name": "stdout",
     "output_type": "stream",
     "text": [
      "hemanth 8 23\n",
      "hp i7 10th\n"
     ]
    }
   ],
   "source": [
    "class student:\n",
    "    def __init__(self,name,c,roll): \n",
    "        self.name=name\n",
    "        self.c=c\n",
    "        self.roll=roll\n",
    "        self.lap=self.laptop()  #the object of the inner class is created here\n",
    "    def show(self):\n",
    "        print(self.name,self.c,self.roll)\n",
    "    \n",
    "    class laptop:\n",
    "        def __init__(self):\n",
    "            self.comp='predator'\n",
    "            self.core='i5'\n",
    "            self.gen='8th' \n",
    "        def show(self):\n",
    "            print(self.comp,self.core,self.gen)\n",
    "s1=student('hemanth',8,23)\n",
    "l1=student.laptop() #to create the object of the inner class we have to create it from the main class.\n",
    "l1.comp='hp'\n",
    "l1.core='i7'\n",
    "l1.gen='10th'\n",
    "s1.show()\n",
    "l1.show()\n"
   ]
  },
  {
   "cell_type": "markdown",
   "metadata": {},
   "source": [
    "### inheritence"
   ]
  },
  {
   "cell_type": "markdown",
   "metadata": {},
   "source": [
    "if we have calss-1 that is a has some features and also have all features from some other calss-2. then we don't need to write all the features of calss-2 into class-1, instead we can inherit class-1 from calss-2 ==> this will allow to have all the features of calss-2 in calss-1, with out any extra effort."
   ]
  },
  {
   "cell_type": "markdown",
   "metadata": {},
   "source": [
    "#### this is better example to understand"
   ]
  },
  {
   "cell_type": "code",
   "execution_count": 17,
   "metadata": {},
   "outputs": [
    {
     "name": "stdout",
     "output_type": "stream",
     "text": [
      "reptiles are cold blooded\n",
      "snakes are poisionous\n",
      "reptiles are cold blooded\n",
      "lizards crawl on the walls\n"
     ]
    }
   ],
   "source": [
    "class Reptiles:             #reptiles is  the parent class\n",
    "    def cold_blooded(self):\n",
    "        print('reptiles are cold blooded')\n",
    "\n",
    "class snakes(Reptiles):     #snakes class is now the inheritent of reptiles\n",
    "    def dangerous(self):     #so they inherit all the methods of reptiles\n",
    "        print('snakes are poisionous')\n",
    "\n",
    "class lizards(Reptiles):\n",
    "    def crawl(self):\n",
    "        print(\"lizards crawl on the walls\")\n",
    "\n",
    "king_cobra=snakes()\n",
    "king_cobra.cold_blooded()\n",
    "king_cobra.dangerous()\n",
    "\n",
    "crocodile=lizards()\n",
    "crocodile.cold_blooded()\n",
    "crocodile.crawl()"
   ]
  },
  {
   "cell_type": "markdown",
   "metadata": {},
   "source": [
    "#### we can have multi-level inheritance"
   ]
  },
  {
   "cell_type": "code",
   "execution_count": 19,
   "metadata": {},
   "outputs": [
    {
     "name": "stdout",
     "output_type": "stream",
     "text": [
      "feture 1 is here\n",
      "feture 2 is here\n",
      "feture 3 is here\n"
     ]
    }
   ],
   "source": [
    "class mother:\n",
    "    def feature1(self):\n",
    "        print('feture 1 is here')\n",
    "class father:\n",
    "    def feature2(self):\n",
    "        print('feture 2 is here')\n",
    "class son(mother,father): #here son inherits both fetures form father and mother\n",
    "    def feature3(self):\n",
    "        print('feture 3 is here')\n",
    "s1=son()\n",
    "s1.feature1()\n",
    "s1.feature2()\n",
    "s1.feature3()"
   ]
  },
  {
   "cell_type": "markdown",
   "metadata": {},
   "source": [
    "### constructor in inheritence"
   ]
  },
  {
   "cell_type": "code",
   "execution_count": 20,
   "metadata": {},
   "outputs": [
    {
     "name": "stdout",
     "output_type": "stream",
     "text": [
      "this is A constructor\n",
      "this is A constructor\n",
      "this is A constructor\n",
      "this is B constructor\n",
      "this is A constructor\n",
      "hi there A\n"
     ]
    }
   ],
   "source": [
    "#constructor in inheritance\n",
    "\n",
    "class A:            #parrent(supper) class\n",
    "    def __init__(self):\n",
    "        print('this is A constructor')\n",
    "\n",
    "class B(A):        #sub-class\n",
    "    #def __init__(self):\n",
    "        #print('this is B constructor')\n",
    "    pass\n",
    "a1=A()\n",
    "a1=B()\n",
    "\n",
    "#since B is inheriting A\n",
    "#so if B don't have any constructor then it will inherit the constructor of A\n",
    "\n",
    "##if we want to inherit both the parrent and the sub-class constructors.\n",
    "class A:\n",
    "    def __init__(self):\n",
    "        print('this is A constructor')\n",
    "\n",
    "class B(A):\n",
    "    def __init__(self):\n",
    "        super().__init__() #this will call the constructor from super class.\n",
    "        print('this is B constructor')\n",
    "\n",
    "a1=B()\n",
    "\n",
    "##about MRO(method resolution order)\n",
    "\n",
    "class A:\n",
    "    def __init__(self):\n",
    "        print('this is A constructor')\n",
    "    def feature1(self):\n",
    "        print('hi there A')\n",
    "\n",
    "class B:\n",
    "    def __init__(self):\n",
    "        super().__init__() #this will call the constructor from super class.\n",
    "        print('this is B constructor')\n",
    "    def feature1(self):\n",
    "        print('hi there B')\n",
    "\n",
    "class C(A,B):\n",
    "    def call(self):\n",
    "        super().feature1() #@ so,when ever we want to use a method of super class we use 'super()'\n",
    "\n",
    "c1=C() #it will call constructor of A only\n",
    "c1.call()\n",
    "#according to MRO\n",
    "#it will take from left to right order(since A is in left)\n",
    "\n"
   ]
  },
  {
   "cell_type": "markdown",
   "metadata": {},
   "source": [
    "#### see the class (link above) if need. simple to understand"
   ]
  },
  {
   "cell_type": "markdown",
   "metadata": {},
   "source": [
    "## polymorphism"
   ]
  },
  {
   "cell_type": "markdown",
   "metadata": {},
   "source": [
    "literal meaning- one thing that takes many forms"
   ]
  },
  {
   "cell_type": "markdown",
   "metadata": {},
   "source": [
    "#### there are 4 types: 1.duck typing, 2.operator overloading, 3.method overloading, 4.method overriding ."
   ]
  },
  {
   "cell_type": "markdown",
   "metadata": {},
   "source": [
    "### duck typing"
   ]
  },
  {
   "cell_type": "code",
   "execution_count": 25,
   "metadata": {},
   "outputs": [
    {
     "name": "stdout",
     "output_type": "stream",
     "text": [
      "compiling\n",
      "running\n",
      "\n",
      "\n",
      "notebook making\n",
      "auto filling\n",
      "compiling\n",
      "running\n"
     ]
    }
   ],
   "source": [
    "class laptop:\n",
    "    def code(self,ide):\n",
    "        ide.execute() #in here we are calling the function execute, which is from ide object\n",
    "        \n",
    "class IDLE:\n",
    "    def execute(self):\n",
    "        print('compiling')\n",
    "        print('running')\n",
    "\n",
    "class jupyter:\n",
    "    def execute(self):\n",
    "        print('notebook making')\n",
    "        print('auto filling')\n",
    "        print('compiling')\n",
    "        print('running')\n",
    "        \n",
    "l1=laptop()\n",
    "ide=IDLE()\n",
    "l1.code(ide)\n",
    "print('\\n')\n",
    "ide=jupyter()\n",
    "l1.code(ide)"
   ]
  },
  {
   "cell_type": "markdown",
   "metadata": {},
   "source": [
    "here ide can be IDLE or jupyter, the main thing is it should have the execute method. so ide is like duck, what ever ide we pass untill it has the execute method we can pass it as a argument in the code method of the laptop object."
   ]
  },
  {
   "cell_type": "markdown",
   "metadata": {},
   "source": [
    "### operator overloading"
   ]
  },
  {
   "cell_type": "markdown",
   "metadata": {},
   "source": [
    "#### note: simple operations we use in python also run with the help of classes"
   ]
  },
  {
   "attachments": {
    "image.png": {
     "image/png": "[encoded data removed]"
    }
   },
   "cell_type": "markdown",
   "metadata": {},
   "source": [
    "![image.png](attachment:image.png)"
   ]
  },
  {
   "cell_type": "markdown",
   "metadata": {},
   "source": [
    "see the 'a' variable is an object of the class intiger."
   ]
  },
  {
   "cell_type": "code",
   "execution_count": 26,
   "metadata": {},
   "outputs": [
    {
     "name": "stdout",
     "output_type": "stream",
     "text": [
      "12\n",
      "12\n"
     ]
    }
   ],
   "source": [
    "a=5\n",
    "b=7\n",
    "print(a+b) \n",
    "#behind the scene this is what happens\n",
    "print(int.__add__(a,b))"
   ]
  },
  {
   "cell_type": "code",
   "execution_count": 27,
   "metadata": {},
   "outputs": [
    {
     "ename": "TypeError",
     "evalue": "unsupported operand type(s) for +: 'student' and 'student'",
     "output_type": "error",
     "traceback": [
      "\u001b[1;31m---------------------------------------------------------------------------\u001b[0m",
      "\u001b[1;31mTypeError\u001b[0m                                 Traceback (most recent call last)",
      "\u001b[1;32m<ipython-input-27-38d7473f047e>\u001b[0m in \u001b[0;36m<module>\u001b[1;34m\u001b[0m\n\u001b[0;32m      4\u001b[0m \u001b[0ms1\u001b[0m\u001b[1;33m=\u001b[0m\u001b[0mstudent\u001b[0m\u001b[1;33m(\u001b[0m\u001b[1;36m50\u001b[0m\u001b[1;33m)\u001b[0m\u001b[1;33m\u001b[0m\u001b[1;33m\u001b[0m\u001b[0m\n\u001b[0;32m      5\u001b[0m \u001b[0ms2\u001b[0m\u001b[1;33m=\u001b[0m\u001b[0mstudent\u001b[0m\u001b[1;33m(\u001b[0m\u001b[1;36m60\u001b[0m\u001b[1;33m)\u001b[0m\u001b[1;33m\u001b[0m\u001b[1;33m\u001b[0m\u001b[0m\n\u001b[1;32m----> 6\u001b[1;33m \u001b[0mprint\u001b[0m\u001b[1;33m(\u001b[0m\u001b[0ms1\u001b[0m\u001b[1;33m+\u001b[0m\u001b[0ms2\u001b[0m\u001b[1;33m)\u001b[0m\u001b[1;33m\u001b[0m\u001b[1;33m\u001b[0m\u001b[0m\n\u001b[0m",
      "\u001b[1;31mTypeError\u001b[0m: unsupported operand type(s) for +: 'student' and 'student'"
     ]
    }
   ],
   "source": [
    "class student:\n",
    "    def __init__(self,m1):\n",
    "        self.m1=m1 \n",
    "s1=student(50)\n",
    "s2=student(60)\n",
    "print(s1+s2)"
   ]
  },
  {
   "cell_type": "markdown",
   "metadata": {},
   "source": [
    "#### above code gives us an error, because we cannot add s1 and s2, even they are of same type of class. for int or string we already have built in functions to do directly as seen in the above's above code. so to add s1,s2 we need to create our own method"
   ]
  },
  {
   "cell_type": "code",
   "execution_count": 28,
   "metadata": {},
   "outputs": [
    {
     "data": {
      "text/plain": [
       "__main__.student"
      ]
     },
     "execution_count": 28,
     "metadata": {},
     "output_type": "execute_result"
    }
   ],
   "source": [
    "type(s1)"
   ]
  },
  {
   "cell_type": "markdown",
   "metadata": {},
   "source": [
    "we do operator overloading to achive this"
   ]
  },
  {
   "cell_type": "code",
   "execution_count": 30,
   "metadata": {},
   "outputs": [
    {
     "name": "stdout",
     "output_type": "stream",
     "text": [
      "110\n"
     ]
    }
   ],
   "source": [
    "class student:\n",
    "    def __init__(self,m1):\n",
    "        self.m1=m1 \n",
    "    def add(self,other):\n",
    "        return self.m1+other.m1\n",
    "s1=student(50)\n",
    "s2=student(60)\n",
    "print(s1.add(s2)) #here s1 takes the place of self and s2 takes the place of other."
   ]
  },
  {
   "cell_type": "code",
   "execution_count": 31,
   "metadata": {},
   "outputs": [
    {
     "name": "stdout",
     "output_type": "stream",
     "text": [
      "5\n",
      "<__main__.student object at 0x000001D3066F81C8>\n"
     ]
    }
   ],
   "source": [
    "a=5\n",
    "print(a)\n",
    "print(s1)"
   ]
  },
  {
   "cell_type": "markdown",
   "metadata": {},
   "source": [
    "observe here, 'a' is object of 'int' class, s1 is object of 'student' class. in case of 'a' we are getting value, but for s1 we are getting address."
   ]
  },
  {
   "cell_type": "markdown",
   "metadata": {},
   "source": [
    "to print the value we have to change the __str__ method"
   ]
  },
  {
   "cell_type": "code",
   "execution_count": 32,
   "metadata": {},
   "outputs": [
    {
     "name": "stdout",
     "output_type": "stream",
     "text": [
      "50\n"
     ]
    }
   ],
   "source": [
    "class student:\n",
    "    def __init__(self,m1):\n",
    "        self.m1=m1 \n",
    "    def add(self,other):\n",
    "        return self.m1+other.m1\n",
    "    def __str__(self):\n",
    "        return self.m1\n",
    "s1=student(50)\n",
    "print(s1.__str__())"
   ]
  },
  {
   "cell_type": "markdown",
   "metadata": {},
   "source": [
    "polymorphism can also be categorised: 1.method overriding and 2.method overloading"
   ]
  },
  {
   "cell_type": "markdown",
   "metadata": {},
   "source": [
    "### method overloading"
   ]
  },
  {
   "cell_type": "markdown",
   "metadata": {},
   "source": [
    "it is creating two methods(functions) of same name but, different no.of parameters"
   ]
  },
  {
   "cell_type": "markdown",
   "metadata": {},
   "source": [
    "method overloading does not work with python, so instead we use some trick to do it"
   ]
  },
  {
   "cell_type": "code",
   "execution_count": 39,
   "metadata": {},
   "outputs": [
    {
     "data": {
      "text/plain": [
       "90"
      ]
     },
     "execution_count": 39,
     "metadata": {},
     "output_type": "execute_result"
    }
   ],
   "source": [
    "class student:\n",
    "    def __init__(self,m1=None,m2=None,m3=None): #initially we set all the values to None, so even if we pass less no.of \n",
    "        self.m1=m1                                        #arguments we can handle\n",
    "        self.m2=m2 \n",
    "        self.m3=m3 \n",
    "    def summation(self):\n",
    "        if self.m1 is not None and self.m2 is not None and self.m3 is not None:\n",
    "            return self.m1+self.m2+self.m3\n",
    "        elif self.m1 is not None and self.m2 is not None:\n",
    "            return self.m1+self.m2\n",
    "        elif self.m1 is not None:\n",
    "            return self.m1\n",
    "       \n",
    "s1=student(50,40)\n",
    "s1.summation()"
   ]
  },
  {
   "cell_type": "markdown",
   "metadata": {},
   "source": [
    "### operator overriding"
   ]
  },
  {
   "cell_type": "markdown",
   "metadata": {},
   "source": [
    "similar to the constructors in inheritence methods also work in the same way when inherited"
   ]
  },
  {
   "cell_type": "code",
   "execution_count": 42,
   "metadata": {},
   "outputs": [
    {
     "name": "stdout",
     "output_type": "stream",
     "text": [
      "this is B showing\n"
     ]
    }
   ],
   "source": [
    "class A:\n",
    "    def show(self):\n",
    "        print('this A showing')\n",
    "class B(A): \n",
    "    def show(self):\n",
    "        #pass\n",
    "        print('this is B showing')\n",
    "a1=B()\n",
    "a1.show()"
   ]
  },
  {
   "cell_type": "markdown",
   "metadata": {},
   "source": [
    "so here when show is called from the a1(which is B's object) it will return the show method which belong to it only, if we don't have show in B, then it go for the show method in the A."
   ]
  },
  {
   "cell_type": "code",
   "execution_count": null,
   "metadata": {},
   "outputs": [],
   "source": []
  }
 ],
 "metadata": {
  "kernelspec": {
   "display_name": "Python 3",
   "language": "python",
   "name": "python3"
  },
  "language_info": {
   "codemirror_mode": {
    "name": "ipython",
    "version": 3
   },
   "file_extension": ".py",
   "mimetype": "text/x-python",
   "name": "python",
   "nbconvert_exporter": "python",
   "pygments_lexer": "ipython3",
   "version": "3.7.6"
  },
  "varInspector": {
   "cols": {
    "lenName": 16,
    "lenType": 16,
    "lenVar": 40
   },
   "kernels_config": {
    "python": {
     "delete_cmd_postfix": "",
     "delete_cmd_prefix": "del ",
     "library": "var_list.py",
     "varRefreshCmd": "print(var_dic_list())"
    },
    "r": {
     "delete_cmd_postfix": ") ",
     "delete_cmd_prefix": "rm(",
     "library": "var_list.r",
     "varRefreshCmd": "cat(var_dic_list()) "
    }
   },
   "types_to_exclude": [
    "module",
    "function",
    "builtin_function_or_method",
    "instance",
    "_Feature"
   ],
   "window_display": false
  }
 },
 "nbformat": 4,
 "nbformat_minor": 4
}
