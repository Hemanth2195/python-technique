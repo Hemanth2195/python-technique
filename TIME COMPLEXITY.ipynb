{
 "cells": [
  {
   "cell_type": "markdown",
   "metadata": {},
   "source": [
    "probelm: GCD_CMPL\n",
    "\n",
    "see : https://codility.com/media/train/10-Gcd.pdf actually not understood see again"
   ]
  },
  {
   "cell_type": "markdown",
   "metadata": {},
   "source": [
    "for(i = 0; i < n; i += 2)\n",
    " \n",
    "for(i = 1; i < n; i *= 2)\n",
    " \n",
    "for(i = n; i > -1; i /= 2)\n",
    "\n",
    "what are the time complexities of the above expressions with proof?"
   ]
  },
  {
   "cell_type": "markdown",
   "metadata": {},
   "source": [
    "these are the TRICKY  questions:1.CHOOSE2, 2.REC_CMPL1, 3.REC_CMPL2, 4.REC_CMPL3, 5.AMORTIZED1(i can do 5th one)"
   ]
  },
  {
   "cell_type": "code",
   "execution_count": null,
   "metadata": {},
   "outputs": [],
   "source": []
  }
 ],
 "metadata": {
  "kernelspec": {
   "display_name": "Python 3",
   "language": "python",
   "name": "python3"
  },
  "language_info": {
   "codemirror_mode": {
    "name": "ipython",
    "version": 3
   },
   "file_extension": ".py",
   "mimetype": "text/x-python",
   "name": "python",
   "nbconvert_exporter": "python",
   "pygments_lexer": "ipython3",
   "version": "3.7.6"
  },
  "varInspector": {
   "cols": {
    "lenName": 16,
    "lenType": 16,
    "lenVar": 40
   },
   "kernels_config": {
    "python": {
     "delete_cmd_postfix": "",
     "delete_cmd_prefix": "del ",
     "library": "var_list.py",
     "varRefreshCmd": "print(var_dic_list())"
    },
    "r": {
     "delete_cmd_postfix": ") ",
     "delete_cmd_prefix": "rm(",
     "library": "var_list.r",
     "varRefreshCmd": "cat(var_dic_list()) "
    }
   },
   "types_to_exclude": [
    "module",
    "function",
    "builtin_function_or_method",
    "instance",
    "_Feature"
   ],
   "window_display": false
  }
 },
 "nbformat": 4,
 "nbformat_minor": 4
}
