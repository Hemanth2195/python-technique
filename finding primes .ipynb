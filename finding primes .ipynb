{
 "cells": [
  {
   "cell_type": "markdown",
   "metadata": {},
   "source": [
    "## finding a given number is prime number or not"
   ]
  },
  {
   "cell_type": "code",
   "execution_count": 9,
   "metadata": {},
   "outputs": [
    {
     "name": "stdout",
     "output_type": "stream",
     "text": [
      "9\n",
      "9 is not prime\n"
     ]
    }
   ],
   "source": [
    "A=int(input())\n",
    "if A==1:\n",
    "    print(f'{A} is not prime')\n",
    "elif A==2:\n",
    "    print(f'{A} is prime')\n",
    "t=False\n",
    "for i in range(2,int(A**0.5)+1):\n",
    "    if A%i==0:\n",
    "        t=True\n",
    "        break \n",
    "if t==False:\n",
    "    print(f'{A} is prime')\n",
    "else:\n",
    "    print(f'{A} is not prime')"
   ]
  },
  {
   "cell_type": "markdown",
   "metadata": {},
   "source": [
    "we run the loop upto sqrt. of A only because, it is any number A=a*b=b*a so upto sqrt. of A we check all the possibilities after \n",
    "sqrt. of A we will repeat the same set of factors in reverse order b*a. https://youtu.be/7VPA-HjjUmU"
   ]
  },
  {
   "cell_type": "markdown",
   "metadata": {},
   "source": [
    "## Eratosthanies sieve"
   ]
  },
  {
   "cell_type": "markdown",
   "metadata": {},
   "source": [
    " it says all the multiples of prime numbers all removed then only prime numbers will be left."
   ]
  },
  {
   "cell_type": "markdown",
   "metadata": {},
   "source": [
    "usefull to get all the prime within a range"
   ]
  },
  {
   "cell_type": "code",
   "execution_count": 39,
   "metadata": {},
   "outputs": [
    {
     "name": "stdout",
     "output_type": "stream",
     "text": [
      "5\n",
      "2\n",
      "2\n",
      "4\n",
      "--------\n",
      "3\n",
      "6\n",
      "--------\n",
      "\n",
      "\n",
      "[2, 3, 5]\n"
     ]
    }
   ],
   "source": [
    "A=int(input())\n",
    "import numpy as np \n",
    "a=np.arange(2,A+1,1)\n",
    "a=list(a)\n",
    "for i in a:\n",
    "    if i>A**0.5:\n",
    "        break \n",
    "    print(i)\n",
    "    k=0\n",
    "    n=i \n",
    "    while k<=A:\n",
    "        print(n)\n",
    "        k=i*n\n",
    "        print(k)\n",
    "        if k in a: \n",
    "            a.remove(k)\n",
    "        n=n+1\n",
    "        print('--------')\n",
    "    print('\\n')\n",
    "print(a)"
   ]
  },
  {
   "cell_type": "code",
   "execution_count": 43,
   "metadata": {},
   "outputs": [
    {
     "data": {
      "text/plain": [
       "[(2, 4), (2, 6), (4, 2), (4, 6), (6, 2), (6, 4)]"
      ]
     },
     "execution_count": 43,
     "metadata": {},
     "output_type": "execute_result"
    }
   ],
   "source": [
    "a=[2,4,6]\n",
    "from itertools import permutations\n",
    "list(permutations(a,2))"
   ]
  },
  {
   "cell_type": "code",
   "execution_count": 1,
   "metadata": {},
   "outputs": [
    {
     "data": {
      "text/plain": [
       "[True, True, True, True, True]"
      ]
     },
     "execution_count": 1,
     "metadata": {},
     "output_type": "execute_result"
    }
   ],
   "source": [
    "[True for i in range(5)]"
   ]
  },
  {
   "cell_type": "code",
   "execution_count": null,
   "metadata": {},
   "outputs": [],
   "source": []
  }
 ],
 "metadata": {
  "kernelspec": {
   "display_name": "Python 3",
   "language": "python",
   "name": "python3"
  },
  "language_info": {
   "codemirror_mode": {
    "name": "ipython",
    "version": 3
   },
   "file_extension": ".py",
   "mimetype": "text/x-python",
   "name": "python",
   "nbconvert_exporter": "python",
   "pygments_lexer": "ipython3",
   "version": "3.7.6"
  },
  "varInspector": {
   "cols": {
    "lenName": 16,
    "lenType": 16,
    "lenVar": 40
   },
   "kernels_config": {
    "python": {
     "delete_cmd_postfix": "",
     "delete_cmd_prefix": "del ",
     "library": "var_list.py",
     "varRefreshCmd": "print(var_dic_list())"
    },
    "r": {
     "delete_cmd_postfix": ") ",
     "delete_cmd_prefix": "rm(",
     "library": "var_list.r",
     "varRefreshCmd": "cat(var_dic_list()) "
    }
   },
   "types_to_exclude": [
    "module",
    "function",
    "builtin_function_or_method",
    "instance",
    "_Feature"
   ],
   "window_display": false
  }
 },
 "nbformat": 4,
 "nbformat_minor": 4
}
