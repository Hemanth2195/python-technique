{
 "cells": [
  {
   "cell_type": "markdown",
   "metadata": {},
   "source": [
    "## binary search"
   ]
  },
  {
   "cell_type": "markdown",
   "metadata": {},
   "source": [
    "binary tree: https://youtu.be/H5JubkIy_p8"
   ]
  },
  {
   "cell_type": "markdown",
   "metadata": {},
   "source": [
    "binery search tree:https://youtu.be/pYT9F8_LFTM?list=PL2_aWCzGMAwI3W_JlcBbtYTwiQSsOTa6P"
   ]
  },
  {
   "cell_type": "markdown",
   "metadata": {},
   "source": [
    "binary tree traversal- 1.deapth first search(level order search),2.breath first search(in order search). https://youtu.be/9RHO6jU--GU?list=PL2_aWCzGMAwI3W_JlcBbtYTwiQSsOTa6P"
   ]
  },
  {
   "cell_type": "markdown",
   "metadata": {},
   "source": [
    "Binary search  is a search algorithm that finds the position of a target value within a sorted array. Binary search compares the target value to the middle element of the array. each time it runs it compares the target value with the current element as it is equal,greater or less."
   ]
  },
  {
   "cell_type": "code",
   "execution_count": 27,
   "metadata": {},
   "outputs": [
    {
     "name": "stdout",
     "output_type": "stream",
     "text": [
      "21\n",
      "index:4\n"
     ]
    }
   ],
   "source": [
    "A=[1,5,7,7,7,13,21,56,56,98]\n",
    "B=21\n",
    "s=0\n",
    "e=len(A)-1\n",
    "p=None\n",
    "while s<=e:\n",
    "    ci=s+(e-s)//2\n",
    "    if A[ci]==B:\n",
    "        p=ci\n",
    "        break\n",
    "    elif A[ci]<B:\n",
    "        s=ci+1\n",
    "    else:\n",
    "        e=ci-1\n",
    "if p is None:\n",
    "    print('not found')\n",
    "else:\n",
    "    print(p)"
   ]
  },
  {
   "cell_type": "markdown",
   "metadata": {},
   "source": [
    "### recursive binary search"
   ]
  },
  {
   "cell_type": "code",
   "execution_count": 5,
   "metadata": {},
   "outputs": [
    {
     "name": "stdout",
     "output_type": "stream",
     "text": [
      "6\n"
     ]
    }
   ],
   "source": []
  },
  {
   "cell_type": "markdown",
   "metadata": {},
   "source": [
    "#### to find the first occurence of an element"
   ]
  },
  {
   "cell_type": "code",
   "execution_count": 21,
   "metadata": {},
   "outputs": [
    {
     "name": "stdout",
     "output_type": "stream",
     "text": [
      "5\n",
      "0 9 5\n",
      "0 8 4\n",
      "0 7 4\n",
      "0 6 3\n",
      "0 5 3\n",
      "0 4 2\n",
      "0 3 2\n",
      "0 2 1\n",
      "1\n"
     ]
    },
    {
     "data": {
      "text/plain": [
       "-1"
      ]
     },
     "execution_count": 21,
     "metadata": {},
     "output_type": "execute_result"
    }
   ],
   "source": []
  },
  {
   "cell_type": "code",
   "execution_count": 7,
   "metadata": {},
   "outputs": [
    {
     "data": {
      "text/plain": [
       "1.0"
      ]
     },
     "execution_count": 7,
     "metadata": {},
     "output_type": "execute_result"
    }
   ],
   "source": [
    "1.5/1.5 "
   ]
  },
  {
   "cell_type": "code",
   "execution_count": null,
   "metadata": {},
   "outputs": [],
   "source": []
  }
 ],
 "metadata": {
  "kernelspec": {
   "display_name": "Python 3",
   "language": "python",
   "name": "python3"
  },
  "language_info": {
   "codemirror_mode": {
    "name": "ipython",
    "version": 3
   },
   "file_extension": ".py",
   "mimetype": "text/x-python",
   "name": "python",
   "nbconvert_exporter": "python",
   "pygments_lexer": "ipython3",
   "version": "3.7.6"
  },
  "varInspector": {
   "cols": {
    "lenName": 16,
    "lenType": 16,
    "lenVar": 40
   },
   "kernels_config": {
    "python": {
     "delete_cmd_postfix": "",
     "delete_cmd_prefix": "del ",
     "library": "var_list.py",
     "varRefreshCmd": "print(var_dic_list())"
    },
    "r": {
     "delete_cmd_postfix": ") ",
     "delete_cmd_prefix": "rm(",
     "library": "var_list.r",
     "varRefreshCmd": "cat(var_dic_list()) "
    }
   },
   "types_to_exclude": [
    "module",
    "function",
    "builtin_function_or_method",
    "instance",
    "_Feature"
   ],
   "window_display": false
  }
 },
 "nbformat": 4,
 "nbformat_minor": 4
}
