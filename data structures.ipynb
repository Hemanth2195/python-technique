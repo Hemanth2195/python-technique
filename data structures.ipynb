{
 "cells": [
  {
   "cell_type": "markdown",
   "metadata": {},
   "source": [
    "##Data Structure Overview\n",
    "Data structures are fundamental concepts of computer science which helps is writing efficient programs in any language. Python is a high-level, interpreted, interactive and object-oriented scripting language using which we can study the fundamentals of data structure in a simpler way as compared to other programming languages.\n",
    "\n",
    "In this chapter we are going to study a short overview of some frequently used data structures in general and how they are related to some specific python data types. There are also some data structures specific to python which is listed as another category.\n",
    "\n",
    "##General Data Structures\n",
    "The various data structures in computer science are divided broadly into two categories shown below. We will discuss about each of the below data structures in detail in subsequent chapters.\n",
    "\n",
    "#Liner Data Structures\n",
    "These are the data structures which store the data elements in a sequential manner.\n",
    "\n",
    "Array: It is a sequential arrangement of data elements paired with the index of the data element.\n",
    "Linked List: Each data element contains a link to another element along with the data present in it.\n",
    "Stack: It is a data structure which follows only to specific order of operation. LIFO(last in First Out) or FILO(First in Last Out).\n",
    "Queue: It is similar to Stack but the order of operation is only FIFO(First In First Out).\n",
    "Matrix: It is two dimensional data structure in which the data element is referred by a pair of indices.\n",
    "\n",
    "#Non-Liner Data Structures\n",
    "These are the data structures in which there is no sequential linking of data elements. Any pair or group of data elements can be linked to each other and can be accessed without a strict sequence.\n",
    "\n",
    "Binary Tree: It is a data structure where each data element can be connected to maximum two other data elements and it starts with a root node.\n",
    "Heap: It is a special case of Tree data structure where the data in the parent node is either strictly greater than/ equal to the child nodes or strictly less than it’s child nodes.\n",
    "Hash Table: It is a data structure which is made of arrays associated with each other using a hash function. It retrieves values using keys rather than index from a data element.\n",
    "Graph: .It is an arrangement of vertices and nodes where some of the nodes are connected to each other through links.\n",
    "\n",
    "#Python Specific Data Structures\n",
    "These data structures are specific to python language and they give greater flexibility in storing different types of data and faster processing in python environment.\n",
    "\n",
    "List: It is similar to array with the exception that the data elements can be of different data types. You can have both numeric and string data in a python list.\n",
    "Tuple: Tuples are similar to lists but they are immutable which means the values in a tuple cannot be modified they can only be read.\n",
    "Dictionary: The dictionary contains Key-value pairs as its data elements."
   ]
  },
  {
   "cell_type": "code",
   "execution_count": null,
   "metadata": {},
   "outputs": [],
   "source": []
  }
 ],
 "metadata": {
  "kernelspec": {
   "display_name": "Python 3",
   "language": "python",
   "name": "python3"
  },
  "language_info": {
   "codemirror_mode": {
    "name": "ipython",
    "version": 3
   },
   "file_extension": ".py",
   "mimetype": "text/x-python",
   "name": "python",
   "nbconvert_exporter": "python",
   "pygments_lexer": "ipython3",
   "version": "3.7.6"
  },
  "varInspector": {
   "cols": {
    "lenName": 16,
    "lenType": 16,
    "lenVar": 40
   },
   "kernels_config": {
    "python": {
     "delete_cmd_postfix": "",
     "delete_cmd_prefix": "del ",
     "library": "var_list.py",
     "varRefreshCmd": "print(var_dic_list())"
    },
    "r": {
     "delete_cmd_postfix": ") ",
     "delete_cmd_prefix": "rm(",
     "library": "var_list.r",
     "varRefreshCmd": "cat(var_dic_list()) "
    }
   },
   "types_to_exclude": [
    "module",
    "function",
    "builtin_function_or_method",
    "instance",
    "_Feature"
   ],
   "window_display": false
  }
 },
 "nbformat": 4,
 "nbformat_minor": 4
}
