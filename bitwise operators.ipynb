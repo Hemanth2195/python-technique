{
 "cells": [
  {
   "cell_type": "markdown",
   "metadata": {},
   "source": [
    "#### &\tBitwise AND\tx & y\n",
    "#### |\tBitwise OR\tx | y\n",
    "#### ~\tBitwise NOT\t~x\n",
    "#### ^\tBitwise XOR\tx ^ y\n",
    "#### >>\tBitwise right shift\tx>>\n",
    "#### <<\tBitwise left shift\tx<<"
   ]
  },
  {
   "cell_type": "markdown",
   "metadata": {},
   "source": [
    "must watch: https://youtu.be/PyfKCvHALj8"
   ]
  },
  {
   "cell_type": "markdown",
   "metadata": {},
   "source": [
    "## ~ bit wise not, aka complement "
   ]
  },
  {
   "cell_type": "code",
   "execution_count": 1,
   "metadata": {},
   "outputs": [
    {
     "data": {
      "text/plain": [
       "-1"
      ]
     },
     "execution_count": 1,
     "metadata": {},
     "output_type": "execute_result"
    }
   ],
   "source": [
    "~0"
   ]
  },
  {
   "cell_type": "code",
   "execution_count": 2,
   "metadata": {},
   "outputs": [
    {
     "data": {
      "text/plain": [
       "-2"
      ]
     },
     "execution_count": 2,
     "metadata": {},
     "output_type": "execute_result"
    }
   ],
   "source": [
    "~1"
   ]
  },
  {
   "cell_type": "code",
   "execution_count": 4,
   "metadata": {},
   "outputs": [
    {
     "data": {
      "text/plain": [
       "-12"
      ]
     },
     "execution_count": 4,
     "metadata": {},
     "output_type": "execute_result"
    }
   ],
   "source": [
    "~11"
   ]
  },
  {
   "cell_type": "code",
   "execution_count": 11,
   "metadata": {},
   "outputs": [
    {
     "data": {
      "text/plain": [
       "-46"
      ]
     },
     "execution_count": 11,
     "metadata": {},
     "output_type": "execute_result"
    }
   ],
   "source": [
    "~45"
   ]
  },
  {
   "cell_type": "code",
   "execution_count": 6,
   "metadata": {},
   "outputs": [
    {
     "data": {
      "text/plain": [
       "-15"
      ]
     },
     "execution_count": 6,
     "metadata": {},
     "output_type": "execute_result"
    }
   ],
   "source": [
    "~14"
   ]
  },
  {
   "cell_type": "markdown",
   "metadata": {},
   "source": [
    "video explination"
   ]
  },
  {
   "cell_type": "markdown",
   "metadata": {},
   "source": [
    "& != and"
   ]
  },
  {
   "cell_type": "markdown",
   "metadata": {},
   "source": [
    "for & we use bitwise and operation means for every bit we do and operation"
   ]
  },
  {
   "cell_type": "code",
   "execution_count": 3,
   "metadata": {},
   "outputs": [
    {
     "data": {
      "text/plain": [
       "8"
      ]
     },
     "execution_count": 3,
     "metadata": {},
     "output_type": "execute_result"
    }
   ],
   "source": [
    "26 & 13"
   ]
  },
  {
   "cell_type": "markdown",
   "metadata": {},
   "source": [
    "similarly | - bitwise or operation"
   ]
  },
  {
   "cell_type": "code",
   "execution_count": 15,
   "metadata": {},
   "outputs": [
    {
     "data": {
      "text/plain": [
       "13"
      ]
     },
     "execution_count": 15,
     "metadata": {},
     "output_type": "execute_result"
    }
   ],
   "source": [
    "12|13"
   ]
  },
  {
   "cell_type": "markdown",
   "metadata": {},
   "source": [
    "^ - bitwise xor"
   ]
  },
  {
   "cell_type": "markdown",
   "metadata": {},
   "source": [
    "for odd number of 1 we get 1 otherwise 0\n",
    "00-->0,01-->1,10-->1,11-->0"
   ]
  },
  {
   "cell_type": "code",
   "execution_count": 16,
   "metadata": {},
   "outputs": [
    {
     "data": {
      "text/plain": [
       "21"
      ]
     },
     "execution_count": 16,
     "metadata": {},
     "output_type": "execute_result"
    }
   ],
   "source": [
    "13 ^ 24"
   ]
  },
  {
   "cell_type": "markdown",
   "metadata": {},
   "source": [
    "left shift -- << and right shift -- >>"
   ]
  },
  {
   "cell_type": "code",
   "execution_count": 20,
   "metadata": {},
   "outputs": [
    {
     "data": {
      "text/plain": [
       "2"
      ]
     },
     "execution_count": 20,
     "metadata": {},
     "output_type": "execute_result"
    }
   ],
   "source": [
    "10>>2"
   ]
  },
  {
   "cell_type": "code",
   "execution_count": 21,
   "metadata": {},
   "outputs": [
    {
     "data": {
      "text/plain": [
       "40"
      ]
     },
     "execution_count": 21,
     "metadata": {},
     "output_type": "execute_result"
    }
   ],
   "source": [
    "10<<2"
   ]
  },
  {
   "cell_type": "markdown",
   "metadata": {},
   "source": [
    "& or | work on integers performing the operator on each corresponding bits. However, && or || work on boolean values ( Any non zero value is true ) to produce a boolean result."
   ]
  },
  {
   "cell_type": "markdown",
   "metadata": {},
   "source": [
    "must watch the video to understand"
   ]
  },
  {
   "cell_type": "markdown",
   "metadata": {},
   "source": [
    "## bit wise xor is cummulative and associative"
   ]
  },
  {
   "cell_type": "markdown",
   "metadata": {},
   "source": [
    "cummulative: a^b=b^a\n",
    "associative: (a⊕b)⊕c=a⊕(b⊕c)"
   ]
  },
  {
   "cell_type": "code",
   "execution_count": null,
   "metadata": {},
   "outputs": [],
   "source": []
  },
  {
   "cell_type": "code",
   "execution_count": null,
   "metadata": {},
   "outputs": [],
   "source": []
  },
  {
   "cell_type": "code",
   "execution_count": 4,
   "metadata": {},
   "outputs": [
    {
     "name": "stdout",
     "output_type": "stream",
     "text": [
      "B:2\n",
      "2 5\n",
      "A:524\n",
      "B:1\n",
      "2 4\n",
      "A:542\n"
     ]
    },
    {
     "data": {
      "text/plain": [
       "'542'"
      ]
     },
     "execution_count": 4,
     "metadata": {},
     "output_type": "execute_result"
    }
   ],
   "source": [
    "class Solution:\n",
    "    # @param A : string\n",
    "    # @param B : integer\n",
    "    # @return a strings\n",
    "    def solve(self, A, B):\n",
    "        def swap(A,i,j):\n",
    "            if i>j:\n",
    "                i,j=j,i \n",
    "            return A[:i]+A[j]+A[i+1:j]+A[i]+A[j+1:]  \n",
    "        for i in range(len(A)):\n",
    "            a=[]\n",
    "            for i in range(len(A)):\n",
    "                a.append([int(A[i]),i]) \n",
    "            a.sort(key=lambda x:x[0],reverse=True) \n",
    "            i=0\n",
    "            c=0\n",
    "            while B!=0 and c<len(A):\n",
    "                print(f'B:{B}')\n",
    "                print(A[c],a[0][0])\n",
    "                if int(A[c])<a[0][0]:\n",
    "                    A=swap(A,c,a[0][1])\n",
    "                    print(f'A:{A}') \n",
    "                    a.pop(0)\n",
    "                    B=B-1\n",
    "                c=c+1 \n",
    "        return A \n",
    "A='254'\n",
    "B=2\n",
    "c1=Solution()\n",
    "c1.solve(A,B)"
   ]
  },
  {
   "cell_type": "code",
   "execution_count": null,
   "metadata": {},
   "outputs": [],
   "source": []
  },
  {
   "cell_type": "code",
   "execution_count": null,
   "metadata": {},
   "outputs": [],
   "source": []
  }
 ],
 "metadata": {
  "kernelspec": {
   "display_name": "Python 3",
   "language": "python",
   "name": "python3"
  },
  "language_info": {
   "codemirror_mode": {
    "name": "ipython",
    "version": 3
   },
   "file_extension": ".py",
   "mimetype": "text/x-python",
   "name": "python",
   "nbconvert_exporter": "python",
   "pygments_lexer": "ipython3",
   "version": "3.7.6"
  },
  "varInspector": {
   "cols": {
    "lenName": 16,
    "lenType": 16,
    "lenVar": 40
   },
   "kernels_config": {
    "python": {
     "delete_cmd_postfix": "",
     "delete_cmd_prefix": "del ",
     "library": "var_list.py",
     "varRefreshCmd": "print(var_dic_list())"
    },
    "r": {
     "delete_cmd_postfix": ") ",
     "delete_cmd_prefix": "rm(",
     "library": "var_list.r",
     "varRefreshCmd": "cat(var_dic_list()) "
    }
   },
   "types_to_exclude": [
    "module",
    "function",
    "builtin_function_or_method",
    "instance",
    "_Feature"
   ],
   "window_display": false
  }
 },
 "nbformat": 4,
 "nbformat_minor": 4
}
