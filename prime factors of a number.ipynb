{
 "cells": [
  {
   "cell_type": "code",
   "execution_count": 5,
   "metadata": {},
   "outputs": [
    {
     "name": "stdout",
     "output_type": "stream",
     "text": [
      "625\n",
      "5^4\n"
     ]
    }
   ],
   "source": [
    "n=int(input())\n",
    "s=''\n",
    "for i in range(2,int(n**0.5)): # here we are taking all numbers wether prime or compoisite\n",
    "    if n%i==0:            # but all the prime numbers only enter the loop, because before it counter a composite it will \n",
    "        c=0               # already been reduced by the it's prime factors.\n",
    "        while n%i==0: \n",
    "            n=n/i \n",
    "            c=c+1\n",
    "        s=s+f'{i}^{c}*'\n",
    "if n==1:\n",
    "    print(s[:-1])\n",
    "else:\n",
    "    print('not possible')"
   ]
  },
  {
   "cell_type": "markdown",
   "metadata": {},
   "source": [
    "explination:https://youtu.be/6PDtgHhpCHo?list=PL2_aWCzGMAwLL-mEB4ef20f3iqWMGWa25"
   ]
  },
  {
   "cell_type": "code",
   "execution_count": null,
   "metadata": {},
   "outputs": [],
   "source": []
  }
 ],
 "metadata": {
  "kernelspec": {
   "display_name": "Python 3",
   "language": "python",
   "name": "python3"
  },
  "language_info": {
   "codemirror_mode": {
    "name": "ipython",
    "version": 3
   },
   "file_extension": ".py",
   "mimetype": "text/x-python",
   "name": "python",
   "nbconvert_exporter": "python",
   "pygments_lexer": "ipython3",
   "version": "3.7.6"
  },
  "varInspector": {
   "cols": {
    "lenName": 16,
    "lenType": 16,
    "lenVar": 40
   },
   "kernels_config": {
    "python": {
     "delete_cmd_postfix": "",
     "delete_cmd_prefix": "del ",
     "library": "var_list.py",
     "varRefreshCmd": "print(var_dic_list())"
    },
    "r": {
     "delete_cmd_postfix": ") ",
     "delete_cmd_prefix": "rm(",
     "library": "var_list.r",
     "varRefreshCmd": "cat(var_dic_list()) "
    }
   },
   "types_to_exclude": [
    "module",
    "function",
    "builtin_function_or_method",
    "instance",
    "_Feature"
   ],
   "window_display": false
  }
 },
 "nbformat": 4,
 "nbformat_minor": 4
}
