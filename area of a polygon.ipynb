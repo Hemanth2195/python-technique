{
 "cells": [
  {
   "cell_type": "markdown",
   "metadata": {},
   "source": [
    "watch: https://youtu.be/WAyPIMme3Yw?list=PL2_aWCzGMAwLL-mEB4ef20f3iqWMGWa25"
   ]
  },
  {
   "cell_type": "markdown",
   "metadata": {},
   "source": [
    "area of triangle in general: https://youtu.be/ur5ZPOa5lGU"
   ]
  },
  {
   "cell_type": "markdown",
   "metadata": {},
   "source": [
    "area of a triangle(say ABC) whose on of vertices at origin(say C): 1/2(abs(A.x*B.y-B.x*A.y)). \n",
    "if none of vertices at origin:  make B=B-C and A=A-C and make C=(0,0). we can use our knowledge to find area of any polygon"
   ]
  },
  {
   "cell_type": "markdown",
   "metadata": {},
   "source": [
    "just watch the video"
   ]
  }
 ],
 "metadata": {
  "kernelspec": {
   "display_name": "Python 3",
   "language": "python",
   "name": "python3"
  },
  "language_info": {
   "codemirror_mode": {
    "name": "ipython",
    "version": 3
   },
   "file_extension": ".py",
   "mimetype": "text/x-python",
   "name": "python",
   "nbconvert_exporter": "python",
   "pygments_lexer": "ipython3",
   "version": "3.7.6"
  },
  "varInspector": {
   "cols": {
    "lenName": 16,
    "lenType": 16,
    "lenVar": 40
   },
   "kernels_config": {
    "python": {
     "delete_cmd_postfix": "",
     "delete_cmd_prefix": "del ",
     "library": "var_list.py",
     "varRefreshCmd": "print(var_dic_list())"
    },
    "r": {
     "delete_cmd_postfix": ") ",
     "delete_cmd_prefix": "rm(",
     "library": "var_list.r",
     "varRefreshCmd": "cat(var_dic_list()) "
    }
   },
   "types_to_exclude": [
    "module",
    "function",
    "builtin_function_or_method",
    "instance",
    "_Feature"
   ],
   "window_display": false
  }
 },
 "nbformat": 4,
 "nbformat_minor": 4
}
